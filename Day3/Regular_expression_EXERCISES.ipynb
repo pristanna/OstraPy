{
 "cells": [
  {
   "cell_type": "markdown",
   "metadata": {},
   "source": [
    "**1: Find CTATA/T(A or T) in the sequence and change those motifs to XXXXX Sequence:\n",
    "'ACGTAGCTAGCTATAGGTATAAAGAGCTAGCTCTATTAGCAGCTAGCTGATCGATGCTATACTAGCTAGCA'**"
   ]
  },
  {
   "cell_type": "code",
   "execution_count": 42,
   "metadata": {},
   "outputs": [
    {
     "data": {
      "text/plain": [
       "'ACGTAGCTAGXXXXXGGTATAAAGAGCTAGCTXXXXXAGCAGCTAGCTGATCGATGXXXXXCTAGCTAGCA'"
      ]
     },
     "execution_count": 42,
     "metadata": {},
     "output_type": "execute_result"
    }
   ],
   "source": [
    "import re\n",
    "\n",
    "sequence1 = 'ACGTAGCTAGCTATAGGTATAAAGAGCTAGCTCTATTAGCAGCTAGCTGATCGATGCTATACTAGCTAGCA'\n",
    "\n",
    "re.sub('CTAT[AT]', 'XXXXX', sequence1)"
   ]
  },
  {
   "cell_type": "markdown",
   "metadata": {},
   "source": [
    "**2: Find all occureces(span) of 'all' in this sentence.**"
   ]
  },
  {
   "cell_type": "code",
   "execution_count": 19,
   "metadata": {},
   "outputs": [
    {
     "name": "stdout",
     "output_type": "stream",
     "text": [
      "<re.Match object; span=(8, 11), match='all'>\n"
     ]
    }
   ],
   "source": [
    "text = '2: Find all occureces(span) of \\'all\\' in this sentence.'\n",
    "match = re.search('all', text)\n",
    "print(match)"
   ]
  },
  {
   "cell_type": "code",
   "execution_count": 25,
   "metadata": {},
   "outputs": [
    {
     "name": "stdout",
     "output_type": "stream",
     "text": [
      "['all', 'all']\n"
     ]
    }
   ],
   "source": [
    "all_matches = re.findall('all' , text)\n",
    "print(all_matches)"
   ]
  },
  {
   "cell_type": "code",
   "execution_count": 24,
   "metadata": {},
   "outputs": [
    {
     "name": "stdout",
     "output_type": "stream",
     "text": [
      "(8, 11)\n",
      "(32, 35)\n"
     ]
    }
   ],
   "source": [
    "all_matches = re.finditer('all' , text)\n",
    "\n",
    "for match in all_matches:\n",
    "    print(match.span())"
   ]
  },
  {
   "cell_type": "markdown",
   "metadata": {},
   "source": [
    "**3: Find all potential codons for Glycine in a given sequence. Be smart. Have fun.\n",
    "'TGGACGATGCGGGTACAGTCGATGCTAGGGTCGGGATGCTAGGCTGAGCTAGCTATCGATGCGGCGCGGGAGCAGCAGCGGGATCGGTAGTCATGGGC'**"
   ]
  },
  {
   "cell_type": "code",
   "execution_count": 43,
   "metadata": {},
   "outputs": [],
   "source": [
    "sequence2 = 'TGGACGATGCGGGTACAGTCGATGCTAGGGTCGGGATGCTAGGCTGAGCTAGCTATCGATGCGGCGCGGGAGCAGCAGCGGGATCGGTAGTCATGGGC'"
   ]
  },
  {
   "cell_type": "code",
   "execution_count": 44,
   "metadata": {},
   "outputs": [
    {
     "name": "stdout",
     "output_type": "stream",
     "text": [
      "['GGA', 'GGG', 'GGG', 'GGG', 'GGC', 'GGC', 'GGG', 'GGG', 'GGT', 'GGG']\n"
     ]
    }
   ],
   "source": [
    "all_gly = re.findall('GG[ACTG]' , sequence2)\n",
    "print(all_gly)"
   ]
  },
  {
   "cell_type": "code",
   "execution_count": 45,
   "metadata": {},
   "outputs": [
    {
     "name": "stdout",
     "output_type": "stream",
     "text": [
      "(1, 4)\n",
      "(10, 13)\n",
      "(27, 30)\n",
      "(32, 35)\n",
      "(41, 44)\n",
      "(62, 65)\n",
      "(67, 70)\n",
      "(79, 82)\n",
      "(85, 88)\n",
      "(94, 97)\n"
     ]
    }
   ],
   "source": [
    "all_gly = re.finditer('GG[ACTG]' , sequence2)\n",
    "for gly in all_gly:\n",
    "    print(gly.span())"
   ]
  }
 ],
 "metadata": {
  "kernelspec": {
   "display_name": "Python 3",
   "language": "python",
   "name": "python3"
  },
  "language_info": {
   "codemirror_mode": {
    "name": "ipython",
    "version": 3
   },
   "file_extension": ".py",
   "mimetype": "text/x-python",
   "name": "python",
   "nbconvert_exporter": "python",
   "pygments_lexer": "ipython3",
   "version": "3.7.3"
  }
 },
 "nbformat": 4,
 "nbformat_minor": 2
}
