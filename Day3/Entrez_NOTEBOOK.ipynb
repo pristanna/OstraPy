{
 "cells": [
  {
   "cell_type": "markdown",
   "metadata": {},
   "source": [
    "## Entrez package\n",
    "\n",
    "Thanks to Entrez package we can comunnicate with Entrez databases.\n",
    "( https://www.ncbi.nlm.nih.gov/Class/MLACourse/Original8Hour/Entrez/ ) "
   ]
  },
  {
   "cell_type": "code",
   "execution_count": 1,
   "metadata": {},
   "outputs": [],
   "source": [
    "# protein search based on protein ID. result in gb format\n",
    "from Bio import Entrez\n",
    "from Bio import SeqIO\n",
    "Entrez.email = \"ap85@seznam.cz\"\n",
    "\n",
    "protein_id = 'NP_035357.1'\n",
    "net_handle = Entrez.efetch(db=\"protein\", id=protein_id, rettype=\"gb\", retmode=\"text\")\n",
    "out_handle = open(protein_id + '.gb', \"w\")\n",
    "out_handle.write(net_handle.read())\n",
    "out_handle.close()\n",
    "net_handle.close()\n",
    "handle = open(protein_id + '.gb', mode=\"r\")\n",
    "protein_record = SeqIO.read(handle, \"genbank\")"
   ]
  },
  {
   "cell_type": "code",
   "execution_count": 6,
   "metadata": {},
   "outputs": [
    {
     "data": {
      "text/plain": [
       "SeqFeature(FeatureLocation(ExactPosition(0), ExactPosition(233)), type='source')"
      ]
     },
     "execution_count": 6,
     "metadata": {},
     "output_type": "execute_result"
    }
   ],
   "source": [
    "# type(protein_record.features) is list\n",
    "x = protein_record.features[0]\n",
    "x"
   ]
  },
  {
   "cell_type": "code",
   "execution_count": 7,
   "metadata": {},
   "outputs": [
    {
     "data": {
      "text/plain": [
       "['Mus musculus']"
      ]
     },
     "execution_count": 7,
     "metadata": {},
     "output_type": "execute_result"
    }
   ],
   "source": [
    "x.qualifiers['organism']"
   ]
  },
  {
   "cell_type": "code",
   "execution_count": 10,
   "metadata": {},
   "outputs": [
    {
     "name": "stdout",
     "output_type": "stream",
     "text": [
      "['CCDS:CCDS22095.1', 'GeneID:19332', 'MGI:MGI:102789']\n"
     ]
    }
   ],
   "source": [
    "x = ''\n",
    "for feature in protein_record.features:\n",
    "    if feature.type == 'CDS':\n",
    "        print(feature.qualifiers['db_xref'])"
   ]
  },
  {
   "cell_type": "markdown",
   "metadata": {},
   "source": [
    "GenBank is not perfect...\n",
    "* RefSeq - they are trying to keep it ordered\n",
    "* GeneID is not always on the second position... always check if you are getting what you want\n",
    "* better solve it with searching the GeneID term using a function - get_gene_id"
   ]
  },
  {
   "cell_type": "code",
   "execution_count": 11,
   "metadata": {},
   "outputs": [
    {
     "name": "stdout",
     "output_type": "stream",
     "text": [
      "gene id: 19332\n"
     ]
    }
   ],
   "source": [
    "# gene search base on ID of its corresponding protein products\n",
    "import os\n",
    "from Bio import Entrez\n",
    "from Bio import SeqIO\n",
    "\n",
    "Entrez.email = \"ap85@seznam.cz\"  # Always tell NCBI who you are\n",
    "\n",
    "def read_protein(protein_id):\n",
    "    filename = protein_id\n",
    "    if not os.path.isfile(filename): #if protein record is not in your folder\n",
    "        net_handle = Entrez.efetch(db=\"protein\", id=protein_id, rettype=\"gb\", retmode=\"text\")\n",
    "        out_handle = open(filename, \"w\")\n",
    "        out_handle.write(net_handle.read())\n",
    "        out_handle.close()\n",
    "        net_handle.close()\n",
    "    handle = open(filename, mode=\"r\")\n",
    "    protein_record = SeqIO.read(handle, \"genbank\")\n",
    "    return protein_record\n",
    "\n",
    "def get_gene_id(protein_record):\n",
    "    for feature in protein_record.features:\n",
    "        if feature.type == \"CDS\":\n",
    "            for item in feature.qualifiers[\"db_xref\"]:\n",
    "                if 'GeneID' in item:\n",
    "                    return((item.split(':'))[1])\n",
    "                \n",
    "protein_record = read_protein('NP_035357.1')\n",
    "gene_id = get_gene_id(protein_record)\n",
    "print('gene id:', gene_id)"
   ]
  },
  {
   "cell_type": "markdown",
   "metadata": {},
   "source": [
    "## Pubmed"
   ]
  },
  {
   "cell_type": "code",
   "execution_count": 32,
   "metadata": {},
   "outputs": [
    {
     "data": {
      "text/plain": [
       "76"
      ]
     },
     "execution_count": 32,
     "metadata": {},
     "output_type": "execute_result"
    }
   ],
   "source": [
    "# number of publications for given author\n",
    "from Bio import Entrez\n",
    "Entrez.email = \"ap85@seznam.cz\"     # Always tell NCBI who you are\n",
    "handle = Entrez.esearch(db=\"pubmed\", term=\"stanislav kmoch\", retmax=100000)\n",
    "record = Entrez.read(handle)\n",
    "len(record[\"IdList\"])"
   ]
  },
  {
   "cell_type": "code",
   "execution_count": 26,
   "metadata": {},
   "outputs": [
    {
     "name": "stdout",
     "output_type": "stream",
     "text": [
      "{'Count': '18', 'RetMax': '18', 'RetStart': '0', 'IdList': ['30411505', '29967284', '29875394', '29352102', '29311744', '27839525', '27466185', '27412140', '27392076', '27296017', '25058500', '24587672', '24449431', '24114807', '23602711', '23543484', '23415546', '21820099'], 'TranslationSet': [{'From': 'Anna Pristoupilova', 'To': 'Pristoupilova, Anna[Full Author Name]'}], 'TranslationStack': [{'Term': 'Pristoupilova, Anna[Full Author Name]', 'Field': 'Full Author Name', 'Count': '18', 'Explode': 'N'}, 'GROUP'], 'QueryTranslation': 'Pristoupilova, Anna[Full Author Name]'}\n"
     ]
    }
   ],
   "source": [
    "print(record)"
   ]
  },
  {
   "cell_type": "code",
   "execution_count": null,
   "metadata": {},
   "outputs": [],
   "source": []
  },
  {
   "cell_type": "code",
   "execution_count": 22,
   "metadata": {},
   "outputs": [
    {
     "name": "stdout",
     "output_type": "stream",
     "text": [
      "Getting 10 publications containing Anna Pristoupilova...\n",
      "Total number of publications containing Anna Pristoupilova: 18\n",
      "Authors: Acott PD, Adamkova V, Adams DJ, Alper SL, Anderson GW, Azou M, Bahlo M, Baresova V, Beck BB, Beltran S, Berkovic SF, Bleyer AJ, Blumenstiel B, Bolar NA, Breuss M, Brunner H, Cadieux-Dion M, Carpenter S, Ceuterick-de Groote C, Conlon P, Connaughton DM, Cossette P, Cotman SL, Crocker JF, Damiano JA, DeFelice M, Deltas CC, Dermaut B, Durnberger G, Edwards A, Flint J, Golzio C, Greka A, Gstrein T, Gubler MC, Gut I, Gut M, Hansen AH, Hansikova H, Harden M, Hartmannova H, Hayot G, Hildebrand MS, Hnizda A, Hochstoeger T, Hodanova K, Hoischen A, Honzik T, Houstek J, Hubacek JA, Hulkova H, Huyghe JR, Jedlickova I, Jiricka V, Jirsa M, Kaplanova V, Katsanis N, Keane TM, Keays DA, Kidd K, Kmoch S, Kucerova-Vidrova V, Landler L, Lavin P, Leca I, Loeys BL, Magner M, Mallet M, Matej R, Matthys E, Mazurova S, McFadden K, Mechtler K, Meurs A, Mole SE, Mortier G, Mracek T, Mrazova L, Musalkova D, Neroldova M, Noskova L, Oliver KL, Oliveriusova P, Oussedik Y, Papagregoriou G, Pecina P, Pediaditakis I, Perry R, Piherova L, Pilat-Carotta S, Praet M, Preiss M, Prihodova K, Pristoupilova A, Raes A, Rajnochova-Bloudickova S, Repic M, Robins V, Rosoklija G, Saligova J, Santens P, Schepers D, Scherer SW, Seeman T, Sherr E, Sieben A, Sims KB, Smith KR, Sovova J, Spong RS, Staropoli JF, Stranecky V, Sys E, Tauchmannova K, Tesarova M, Thibeault Y, Traunbauer AK, Treslova H, Tripathy R, Van Broeckhoven C, Van Camp G, Van Hemelrijk C, Van Laer L, Van Mossevelde S, Vande Walle J, Vandeweyer G, Vevera J, Viklicky O, Vondrackova A, Votruba M, Vrablik M, Vrbacka A, Vrbacky M, Vyletal P, Wei J, Wenzel A, Woodbury-Smith M, Zamecnik J, Zarrei M, Zeman J, Zivna M, Zivny J, Zuber J, van den Ameele J\n"
     ]
    }
   ],
   "source": [
    "# coauthor search\n",
    "from Bio import Entrez\n",
    "from Bio import Medline\n",
    "\n",
    "MAX_COUNT = 10\n",
    "TERM = 'Anna Pristoupilova'\n",
    "\n",
    "print('Getting {0} publications containing {1}...'.format(MAX_COUNT, TERM))\n",
    "Entrez.email = \"ap85@seznam.cz\"\n",
    "h = Entrez.esearch(db='pubmed', retmax=MAX_COUNT, term=TERM)\n",
    "result = Entrez.read(h)\n",
    "print('Total number of publications containing {0}: {1}'.format(TERM, result['Count']))\n",
    "ids = result['IdList']\n",
    "h = Entrez.efetch(db='pubmed', id=ids, rettype='medline', retmode='text')\n",
    "records = Medline.parse(h)\n",
    "\n",
    "authors = []\n",
    "for record in records:\n",
    "    au = record.get('AU', '?')\n",
    "    for a in au: \n",
    "        if a not in authors:\n",
    "            authors.append(a)\n",
    "    authors.sort()\n",
    "print('Authors: {0}'.format(', '.join(authors)))"
   ]
  },
  {
   "cell_type": "code",
   "execution_count": 29,
   "metadata": {},
   "outputs": [
    {
     "name": "stdout",
     "output_type": "stream",
     "text": [
      "{'Count': '5', 'RetMax': '5', 'RetStart': '0', 'IdList': ['31433517', '31413119', '31332381', '31332380', '31178126'], 'TranslationSet': [], 'TranslationStack': [{'Term': 'NOTCH2NLC[All Fields]', 'Field': 'All Fields', 'Count': '5', 'Explode': 'N'}, 'GROUP'], 'QueryTranslation': 'NOTCH2NLC[All Fields]'}\n"
     ]
    }
   ],
   "source": [
    "# try to get names of publications for a given autor\n",
    "from Bio import Entrez\n",
    "Entrez.email = \"ap85@seznam.cz\"     # Always tell NCBI who you are\n",
    "handle = Entrez.esearch(db=\"pubmed\", term=\"NOTCH2NLC\", retmax=100000)\n",
    "record = Entrez.read(handle)\n",
    "print(record)"
   ]
  }
 ],
 "metadata": {
  "kernelspec": {
   "display_name": "Python 3",
   "language": "python",
   "name": "python3"
  },
  "language_info": {
   "codemirror_mode": {
    "name": "ipython",
    "version": 3
   },
   "file_extension": ".py",
   "mimetype": "text/x-python",
   "name": "python",
   "nbconvert_exporter": "python",
   "pygments_lexer": "ipython3",
   "version": "3.7.3"
  }
 },
 "nbformat": 4,
 "nbformat_minor": 2
}
