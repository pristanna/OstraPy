{
 "cells": [
  {
   "cell_type": "markdown",
   "metadata": {},
   "source": [
    "**1:Load xenopus_tropicalis_rab20.fasta with SeqIO.read to your script. Use NCBIWWW.qblast for blasting it against refseq_protein database. Save blast result to a file name xenopus_tropicalis_rab20.xml**"
   ]
  },
  {
   "cell_type": "code",
   "execution_count": 6,
   "metadata": {},
   "outputs": [],
   "source": [
    "from Bio import SeqIO\n",
    "from Bio.Blast import NCBIWWW\n",
    "from Bio import Entrez\n",
    "Entrez.email = \"ap85@seznam.cz\"  # Always tell NCBI who you are\n",
    "\n",
    "# there is just one sequence in xenopus_tropicalis_rab20.fasta\n",
    "\n",
    "infile = \"xenopus_tropicalis_rab20.fasta\"\n",
    "record = SeqIO.read(infile, format=\"fasta\")\n",
    "handle = NCBIWWW.qblast(\"blastp\", \"refseq_protein\", record.seq)\n",
    "with open(infile.split('.')[0]+ \".xml\", \"w\") as res:\n",
    "    res.write(handle.read())\n"
   ]
  },
  {
   "cell_type": "markdown",
   "metadata": {},
   "source": [
    "**2:  Use NCBIXML.read to read your xenopus_tropicalis_rab20.xml. Print all hit accessions.**"
   ]
  },
  {
   "cell_type": "code",
   "execution_count": 7,
   "metadata": {},
   "outputs": [
    {
     "name": "stdout",
     "output_type": "stream",
     "text": [
      "NP_001017295\n",
      "XP_012812505\n",
      "NP_001086022\n",
      "NP_001087734\n",
      "XP_018412509\n",
      "XP_015706927\n",
      "XP_021270904\n",
      "XP_025892446\n",
      "XP_416953\n",
      "XP_005488078\n",
      "XP_025958235\n",
      "XP_003207895\n",
      "XP_026704633\n",
      "XP_005037529\n",
      "XP_005009112\n",
      "XP_006851577\n",
      "XP_006119758\n",
      "XP_030301690\n",
      "XP_030333060\n",
      "XP_029854645\n",
      "XP_010573925\n",
      "XP_015477424\n",
      "XP_024061847\n",
      "XP_014113976\n",
      "XP_005145302\n",
      "XP_030424400\n",
      "XP_021401254\n",
      "XP_002189536\n",
      "XP_030057422\n",
      "XP_014799603\n",
      "XP_014738728\n",
      "XP_030090882\n",
      "XP_006260526\n",
      "XP_005238422\n",
      "XP_009897010\n",
      "XP_019380939\n",
      "XP_008634095\n",
      "XP_013809485\n",
      "XP_019385208\n",
      "XP_027495600\n",
      "XP_006017293\n",
      "XP_003414027\n",
      "XP_017672819\n",
      "XP_003765785\n",
      "XP_027744494\n",
      "XP_007063971\n",
      "XP_005303042\n",
      "XP_029460571\n",
      "XP_009554335\n",
      "XP_001375109\n"
     ]
    }
   ],
   "source": [
    "# NCBIXML.read for file with one sequence, for more sequence: NCBIXML.parse\n",
    "from Bio.Blast import NCBIXML\n",
    "\n",
    "# we always need to open our file before parsing\n",
    "blastout = open('xenopus_tropicalis_rab20.xml')\n",
    "blast_record = NCBIXML.read(blastout)\n",
    "\n",
    "# hit_id\n",
    "for hit in blast_record.alignments:\n",
    "    print(hit.accession)"
   ]
  },
  {
   "cell_type": "markdown",
   "metadata": {},
   "source": [
    "**3: Use NCBIXML.read to read your xenopus_tropicalis_rab20.xml. Print all hit accessions with evalue.**"
   ]
  },
  {
   "cell_type": "code",
   "execution_count": null,
   "metadata": {},
   "outputs": [],
   "source": [
    "from Bio.Blast import NCBIXML\n",
    "\n",
    "# we always need to open our file before parsing\n",
    "blastout = open('xenopus_tropicalis_rab20.xml')\n",
    "blast_record = NCBIXML.read(blastout)\n",
    "\n",
    "# print acession and evalue for all hits in a format: id': id; 'evalue': evalue\n",
    "\n",
    "for aln in blast_record.alignments:\n",
    "    for hsp in aln.hsps:\n",
    "        print('id: {}\\nevalue:{}\\n'.format(aln.accession, hsp.expect))"
   ]
  },
  {
   "cell_type": "markdown",
   "metadata": {},
   "source": [
    "**4: Apply the same logic for more sequences**"
   ]
  },
  {
   "cell_type": "code",
   "execution_count": 16,
   "metadata": {},
   "outputs": [
    {
     "ename": "FileNotFoundError",
     "evalue": "[Errno 2] No such file or directory: 'multiple.xml'",
     "output_type": "error",
     "traceback": [
      "\u001b[1;31m---------------------------------------------------------------------------\u001b[0m",
      "\u001b[1;31mFileNotFoundError\u001b[0m                         Traceback (most recent call last)",
      "\u001b[1;32m<ipython-input-16-c0e2ca0e5549>\u001b[0m in \u001b[0;36m<module>\u001b[1;34m\u001b[0m\n\u001b[0;32m      2\u001b[0m \u001b[1;33m\u001b[0m\u001b[0m\n\u001b[0;32m      3\u001b[0m \u001b[1;31m# we always need to open our file before parsing\u001b[0m\u001b[1;33m\u001b[0m\u001b[1;33m\u001b[0m\u001b[1;33m\u001b[0m\u001b[0m\n\u001b[1;32m----> 4\u001b[1;33m \u001b[0mblastout\u001b[0m \u001b[1;33m=\u001b[0m \u001b[0mopen\u001b[0m\u001b[1;33m(\u001b[0m\u001b[1;34m'multiple.xml'\u001b[0m\u001b[1;33m)\u001b[0m\u001b[1;33m\u001b[0m\u001b[1;33m\u001b[0m\u001b[0m\n\u001b[0m\u001b[0;32m      5\u001b[0m \u001b[1;33m\u001b[0m\u001b[0m\n\u001b[0;32m      6\u001b[0m \u001b[1;31m# when having more than one sequence, we need to do it with parse....\u001b[0m\u001b[1;33m\u001b[0m\u001b[1;33m\u001b[0m\u001b[1;33m\u001b[0m\u001b[0m\n",
      "\u001b[1;31mFileNotFoundError\u001b[0m: [Errno 2] No such file or directory: 'multiple.xml'"
     ]
    }
   ],
   "source": [
    "from Bio.Blast import NCBIXML\n",
    "\n",
    "# we always need to open our file before parsing\n",
    "blastout = open('multiple.xml')\n",
    "\n",
    "# when having more than one sequence, we need to do it with parse.... \n",
    "# and put it inside other for loop - going one level up!\n",
    "\n",
    "blast_records = NCBIXML.parse(blastout)\n",
    "\n",
    "# print acession and evalue for all hits in a format: id': id; 'evalue': evalue\n",
    "\n",
    "# type(blast_records) is generator\n",
    "\n",
    "for record in blast_records:\n",
    "    for aln in blast_record.alignments:\n",
    "        for hsp in aln.hsps:\n",
    "            print('id: {}\\nevalue:{}\\n'.format(aln.accession, hsp.expect))"
   ]
  },
  {
   "cell_type": "code",
   "execution_count": 13,
   "metadata": {},
   "outputs": [
    {
     "data": {
      "text/plain": [
       "generator"
      ]
     },
     "execution_count": 13,
     "metadata": {},
     "output_type": "execute_result"
    }
   ],
   "source": [
    "type(blast_records)"
   ]
  }
 ],
 "metadata": {
  "kernelspec": {
   "display_name": "Python 3",
   "language": "python",
   "name": "python3"
  },
  "language_info": {
   "codemirror_mode": {
    "name": "ipython",
    "version": 3
   },
   "file_extension": ".py",
   "mimetype": "text/x-python",
   "name": "python",
   "nbconvert_exporter": "python",
   "pygments_lexer": "ipython3",
   "version": "3.7.3"
  }
 },
 "nbformat": 4,
 "nbformat_minor": 2
}
