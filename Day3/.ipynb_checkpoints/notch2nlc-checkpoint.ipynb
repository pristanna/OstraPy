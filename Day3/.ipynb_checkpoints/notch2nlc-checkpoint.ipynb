{
 "cells": [
  {
   "cell_type": "markdown",
   "metadata": {},
   "source": [
    "# NOTCH2NLC analysis"
   ]
  },
  {
   "cell_type": "code",
   "execution_count": 32,
   "metadata": {},
   "outputs": [],
   "source": [
    "# Prepared decent FASTA reference from the file that gave me Iva\n",
    "\n",
    "from Bio import SeqIO\n",
    "\n",
    "infile = \"notch2nlc_newlines.fasta\"\n",
    "record = SeqIO.read(infile, format=\"fasta\")\n",
    "\n",
    "with open(\"notch2nlc.fasta\", 'w') as out:\n",
    "    out.write(f'>{record.name}\\n{record.seq.upper()}')\n"
   ]
  },
  {
   "cell_type": "code",
   "execution_count": 31,
   "metadata": {},
   "outputs": [
    {
     "data": {
      "text/plain": [
       "Bio.Seq.Seq"
      ]
     },
     "execution_count": 31,
     "metadata": {},
     "output_type": "execute_result"
    }
   ],
   "source": [
    "type(record.seq)"
   ]
  },
  {
   "cell_type": "code",
   "execution_count": null,
   "metadata": {},
   "outputs": [],
   "source": [
    "# Try NOTCH2NLC example Blast.NCBIWWW\n",
    "\n",
    "# similar example as above only with sequence loaded from file\n",
    "from Bio import SeqIO\n",
    "from Bio import Entrez\n",
    "from Bio.Blast import NCBIWWW\n",
    "Entrez.email = \"ap85@seznam.cz\"  # Always tell NCBI who you are\n",
    "\n",
    "infile = \"notch2nlc_newlines.fasta\"\n",
    "record = SeqIO.read(infile, format=\"fasta\")\n",
    "handle = NCBIWWW.qblast(\"blastn\", \"nr\", record.seq)\n",
    "with open(infile.split('.')[0]+ \".xml\", \"w\") as res:\n",
    "    res.write(handle.read())"
   ]
  }
 ],
 "metadata": {
  "kernelspec": {
   "display_name": "Python 3",
   "language": "python",
   "name": "python3"
  },
  "language_info": {
   "codemirror_mode": {
    "name": "ipython",
    "version": 3
   },
   "file_extension": ".py",
   "mimetype": "text/x-python",
   "name": "python",
   "nbconvert_exporter": "python",
   "pygments_lexer": "ipython3",
   "version": "3.7.3"
  }
 },
 "nbformat": 4,
 "nbformat_minor": 2
}
