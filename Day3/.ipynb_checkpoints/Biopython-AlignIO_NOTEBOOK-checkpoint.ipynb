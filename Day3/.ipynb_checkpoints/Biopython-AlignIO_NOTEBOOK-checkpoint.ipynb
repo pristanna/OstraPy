{
 "cells": [
  {
   "cell_type": "markdown",
   "metadata": {},
   "source": [
    "## AlignIO - The module for multiple sequence alignments\n",
    "\n",
    "read more about AlignIO:\n",
    "http://biopython.org/wiki/AlignIO"
   ]
  },
  {
   "cell_type": "code",
   "execution_count": null,
   "metadata": {},
   "outputs": [],
   "source": [
    "from Bio import AlignIO\n",
    "\n",
    "# read alignments (analogy with SeqIO)\n",
    "alignment = AlignIO.read('rab20_ncbi.aln', 'fasta')"
   ]
  },
  {
   "cell_type": "code",
   "execution_count": null,
   "metadata": {},
   "outputs": [],
   "source": [
    "# alignment length\n",
    "alignment.get_alignment_length()"
   ]
  },
  {
   "cell_type": "code",
   "execution_count": null,
   "metadata": {
    "collapsed": true
   },
   "outputs": [],
   "source": [
    "# print type of the selected object\n",
    "type(alignment)"
   ]
  },
  {
   "cell_type": "code",
   "execution_count": null,
   "metadata": {},
   "outputs": [],
   "source": [
    "# slicing first six sequences from position 79 to 89\n",
    "my_new_little_friend = alignment[:6, 80:90]"
   ]
  },
  {
   "cell_type": "code",
   "execution_count": null,
   "metadata": {},
   "outputs": [],
   "source": [
    "print(my_new_little_friend)"
   ]
  },
  {
   "cell_type": "code",
   "execution_count": null,
   "metadata": {},
   "outputs": [],
   "source": [
    "# first column for first 6 sequences\n",
    "print(alignment[:6, 0])"
   ]
  },
  {
   "cell_type": "code",
   "execution_count": null,
   "metadata": {},
   "outputs": [],
   "source": [
    "# 80. column for all sequences\n",
    "alignment[:,80]"
   ]
  },
  {
   "cell_type": "code",
   "execution_count": null,
   "metadata": {
    "collapsed": true
   },
   "outputs": [],
   "source": [
    "# first 3 sequences from 5. line\n",
    "print(alignment[:3, 5:])"
   ]
  },
  {
   "cell_type": "code",
   "execution_count": null,
   "metadata": {
    "collapsed": true
   },
   "outputs": [],
   "source": [
    "# making list from alignments object\n",
    "x = list(alignment)"
   ]
  },
  {
   "cell_type": "code",
   "execution_count": null,
   "metadata": {
    "collapsed": true
   },
   "outputs": [],
   "source": [
    "# first SeqRecord from list\n",
    "# první SeqRecord z listu\n",
    "x[0]"
   ]
  },
  {
   "cell_type": "code",
   "execution_count": null,
   "metadata": {
    "collapsed": true
   },
   "outputs": [],
   "source": [
    "# sequence of first SeqRecord from list\n",
    "print(x[0].seq)"
   ]
  },
  {
   "cell_type": "code",
   "execution_count": null,
   "metadata": {
    "scrolled": true
   },
   "outputs": [],
   "source": [
    "# prints three most abundant amino acids from position 100-109\n",
    "from collections import Counter\n",
    "\n",
    "for i in range(100,110):\n",
    "    counter = Counter(list(alignment[:, i]))\n",
    "    print(\"column number: \", i, counter.most_common(3))"
   ]
  },
  {
   "cell_type": "code",
   "execution_count": null,
   "metadata": {
    "collapsed": true
   },
   "outputs": [],
   "source": [
    "# Using AlingIO to convert alignment from one format to another\n",
    "\n",
    "from Bio import AlignIO\n",
    "\n",
    "input_handle = open(\"rab20_ncbi.sth\", \"r\")\n",
    "output_handle = open(\"rab20_ncbi.phy\", \"w\")\n",
    "\n",
    "alignment = AlignIO.parse(input_handle, \"stockholm\")\n",
    "AlignIO.write(alignment, output_handle, \"phylip-relaxed\")\n",
    "\n",
    "output_handle.close()\n",
    "input_handle.close()"
   ]
  },
  {
   "cell_type": "code",
   "execution_count": null,
   "metadata": {},
   "outputs": [],
   "source": [
    "# Easy way how to count how many positions are conserved\n",
    "# in more than 95% of sequences\n",
    "from collections import Counter\n",
    "from Bio import AlignIO\n",
    "import pandas as pd\n",
    "\n",
    "alignment = AlignIO.read('rab20_ncbi.aln', 'fasta')\n",
    "aln_length = alignment.get_alignment_length()\n",
    "\n",
    "total = 0\n",
    "for i in range(aln_length):\n",
    "    counted = dict(Counter(alignment[:, i]))\n",
    "    counted_series = pd.Series(counted)\n",
    "    if (counted_series.max()/len(alignment) > 0.95) and (counted_series.idxmax() != '-'):\n",
    "        #print(i+1, alignment[:,i] + '\\n')\n",
    "        total += 1\n",
    "print(round(total/aln_length, 2))"
   ]
  }
 ],
 "metadata": {
  "kernelspec": {
   "display_name": "Python 3",
   "language": "python",
   "name": "python3"
  },
  "language_info": {
   "codemirror_mode": {
    "name": "ipython",
    "version": 3
   },
   "file_extension": ".py",
   "mimetype": "text/x-python",
   "name": "python",
   "nbconvert_exporter": "python",
   "pygments_lexer": "ipython3",
   "version": "3.6.6"
  }
 },
 "nbformat": 4,
 "nbformat_minor": 2
}
