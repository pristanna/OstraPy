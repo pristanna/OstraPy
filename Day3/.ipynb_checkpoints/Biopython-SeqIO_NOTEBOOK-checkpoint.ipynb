{
 "cells": [
  {
   "cell_type": "markdown",
   "metadata": {},
   "source": [
    "# Biopython - Python tools for Computational Molecular Biology\n",
    "\n",
    "More information: http://biopython.org"
   ]
  },
  {
   "cell_type": "markdown",
   "metadata": {},
   "source": [
    "## SeqIO  - Sequence Input/Output\n",
    "\n",
    "More information: http://biopython.org/wiki/SeqIO"
   ]
  },
  {
   "cell_type": "markdown",
   "metadata": {},
   "source": [
    "### Basic usage of SeqIO"
   ]
  },
  {
   "cell_type": "code",
   "execution_count": 1,
   "metadata": {},
   "outputs": [],
   "source": [
    "from Bio import SeqIO\n",
    "\n",
    "# SeqIO.read only for files with one sequence\n",
    "record = SeqIO.read('one_seq_prot.fasta', 'fasta')"
   ]
  },
  {
   "cell_type": "code",
   "execution_count": 2,
   "metadata": {},
   "outputs": [
    {
     "data": {
      "text/plain": [
       "Bio.SeqRecord.SeqRecord"
      ]
     },
     "execution_count": 2,
     "metadata": {},
     "output_type": "execute_result"
    }
   ],
   "source": [
    "type(record)"
   ]
  },
  {
   "cell_type": "code",
   "execution_count": 3,
   "metadata": {},
   "outputs": [
    {
     "data": {
      "text/plain": [
       "['__add__',\n",
       " '__bool__',\n",
       " '__class__',\n",
       " '__contains__',\n",
       " '__delattr__',\n",
       " '__dict__',\n",
       " '__dir__',\n",
       " '__doc__',\n",
       " '__eq__',\n",
       " '__format__',\n",
       " '__ge__',\n",
       " '__getattribute__',\n",
       " '__getitem__',\n",
       " '__gt__',\n",
       " '__hash__',\n",
       " '__init__',\n",
       " '__init_subclass__',\n",
       " '__iter__',\n",
       " '__le__',\n",
       " '__le___',\n",
       " '__len__',\n",
       " '__lt__',\n",
       " '__module__',\n",
       " '__ne__',\n",
       " '__new__',\n",
       " '__nonzero__',\n",
       " '__radd__',\n",
       " '__reduce__',\n",
       " '__reduce_ex__',\n",
       " '__repr__',\n",
       " '__setattr__',\n",
       " '__sizeof__',\n",
       " '__str__',\n",
       " '__subclasshook__',\n",
       " '__weakref__',\n",
       " '_per_letter_annotations',\n",
       " '_seq',\n",
       " '_set_per_letter_annotations',\n",
       " '_set_seq',\n",
       " 'annotations',\n",
       " 'dbxrefs',\n",
       " 'description',\n",
       " 'features',\n",
       " 'format',\n",
       " 'id',\n",
       " 'letter_annotations',\n",
       " 'lower',\n",
       " 'name',\n",
       " 'reverse_complement',\n",
       " 'seq',\n",
       " 'upper']"
      ]
     },
     "execution_count": 3,
     "metadata": {},
     "output_type": "execute_result"
    }
   ],
   "source": [
    "# print all avaible methods and attributes for selected object\n",
    "dir(record)"
   ]
  },
  {
   "cell_type": "code",
   "execution_count": 4,
   "metadata": {},
   "outputs": [
    {
     "name": "stdout",
     "output_type": "stream",
     "text": [
      "ID: NP_035357.1\n",
      "Name: NP_035357.1\n",
      "Description: NP_035357.1 ras-related protein Rab-20 [Mus musculus]\n",
      "Number of features: 0\n",
      "Seq('MRKPDGKIVLLGDMNVGKTSLLQRYMERRFPDTVSTVGGAFYLKQWRSFNISIW...CCA', SingleLetterAlphabet())\n"
     ]
    }
   ],
   "source": [
    "print(record)"
   ]
  },
  {
   "cell_type": "code",
   "execution_count": 5,
   "metadata": {},
   "outputs": [
    {
     "data": {
      "text/plain": [
       "'NP_035357.1'"
      ]
     },
     "execution_count": 5,
     "metadata": {},
     "output_type": "execute_result"
    }
   ],
   "source": [
    "record.id"
   ]
  },
  {
   "cell_type": "code",
   "execution_count": 6,
   "metadata": {},
   "outputs": [
    {
     "data": {
      "text/plain": [
       "Seq('MRKPDGKIVLLGDMNVGKTSLLQRYMERRFPDTVSTVGGAFYLKQWRSFNISIW...CCA', SingleLetterAlphabet())"
      ]
     },
     "execution_count": 6,
     "metadata": {},
     "output_type": "execute_result"
    }
   ],
   "source": [
    "record.seq"
   ]
  },
  {
   "cell_type": "code",
   "execution_count": 7,
   "metadata": {},
   "outputs": [
    {
     "name": "stdout",
     "output_type": "stream",
     "text": [
      "MRKPDGKIVLLGDMNVGKTSLLQRYMERRFPDTVSTVGGAFYLKQWRSFNISIWDTAGREQFHGLGSLYCRGAAAIILTYDVNHPQSLFELEDRFLGLTETANNDCLFAIVGNKVDLTSERDTEGGEKEGPASGKVGSCVSTKVPKQVQPEDAVALYKKILKYKMLDEREMPAAEQMCFETSAKTGYNVDLLFETLFDLVVPMIMRQRAEESDQTVDIASCKTPKQTRSGCCA\n"
     ]
    }
   ],
   "source": [
    "print(record.seq)"
   ]
  },
  {
   "cell_type": "code",
   "execution_count": 8,
   "metadata": {},
   "outputs": [
    {
     "data": {
      "text/plain": [
       "'NP_035357.1 ras-related protein Rab-20 [Mus musculus]'"
      ]
     },
     "execution_count": 8,
     "metadata": {},
     "output_type": "execute_result"
    }
   ],
   "source": [
    "record.description"
   ]
  },
  {
   "cell_type": "code",
   "execution_count": 9,
   "metadata": {},
   "outputs": [],
   "source": [
    "record = SeqIO.read('one_seq_nucl.fasta', 'fasta')"
   ]
  },
  {
   "cell_type": "code",
   "execution_count": 10,
   "metadata": {},
   "outputs": [
    {
     "name": "stdout",
     "output_type": "stream",
     "text": [
      "ATGCGGAAGCCGGATGGGAAGATCGTACTGCTGGGGGACATGAACGTGGGTAAAACGTCGCTGCTGCAGCGCTACATGGAGCGTCGCTTCCCGGACACGGTCAGCACCGTGGGCGGCGCCTTCTACCTGAAGCAGTGGCGTTCCTTCAACATCTCCATATGGGACACCGCAGGGCGGGAGCAGTTTCATGGTCTGGGCTCCCTGTACTGCCGCGGAGCGGCCGCTATCATCCTTACATACGATGTGAACCACCCACAGAGCCTGTTTGAGCTGGAGGACAGATTCCTGGGCCTGACAGAAACAGCCAACAATGACTGCCTGTTTGCCATTGTGGGGAACAAAGTGGACCTGACCTCGGAGCGGGACACCGAGGGCGGGGAGAAGGAAGGACCGGCCTCTGGCAAGGTGGGCAGCTGTGTCTCCACCAAGGTACCCAAGCAGGTGCAGCCAGAGGATGCAGTGGCCCTTTACAAGAAGATCCTGAAGTACAAGATGCTGGATGAGAGGGAGATGCCAGCTGCTGAGCAGATGTGCTTCGAGACCAGTGCCAAGACTGGATACAATGTGGACCTCCTCTTTGAAACCTTGTTTGACCTGGTGGTACCTATGATCATGCGGCAGAGGGCTGAGGAGTCAGATCAGACTGTGGATATAGCCAGCTGCAAAACACCCAAACAGACTAGATCCGGGTGTTGTGCCTAA\n"
     ]
    }
   ],
   "source": [
    "print(record.seq)"
   ]
  },
  {
   "cell_type": "code",
   "execution_count": 22,
   "metadata": {},
   "outputs": [
    {
     "name": "stdout",
     "output_type": "stream",
     "text": [
      "TTAGGCACAACACCCGGATCTAGTCTGTTTGGGTGTTTTGCAGCTGGCTATATCCACAGTCTGATCTGACTCCTCAGCCCTCTGCCGCATGATCATAGGTACCACCAGGTCAAACAAGGTTTCAAAGAGGAGGTCCACATTGTATCCAGTCTTGGCACTGGTCTCGAAGCACATCTGCTCAGCAGCTGGCATCTCCCTCTCATCCAGCATCTTGTACTTCAGGATCTTCTTGTAAAGGGCCACTGCATCCTCTGGCTGCACCTGCTTGGGTACCTTGGTGGAGACACAGCTGCCCACCTTGCCAGAGGCCGGTCCTTCCTTCTCCCCGCCCTCGGTGTCCCGCTCCGAGGTCAGGTCCACTTTGTTCCCCACAATGGCAAACAGGCAGTCATTGTTGGCTGTTTCTGTCAGGCCCAGGAATCTGTCCTCCAGCTCAAACAGGCTCTGTGGGTGGTTCACATCGTATGTAAGGATGATAGCGGCCGCTCCGCGGCAGTACAGGGAGCCCAGACCATGAAACTGCTCCCGCCCTGCGGTGTCCCATATGGAGATGTTGAAGGAACGCCACTGCTTCAGGTAGAAGGCGCCGCCCACGGTGCTGACCGTGTCCGGGAAGCGACGCTCCATGTAGCGCTGCAGCAGCGACGTTTTACCCACGTTCATGTCCCCCAGCAGTACGATCTTCCCATCCGGCTTCCGCAT\n"
     ]
    }
   ],
   "source": [
    "# fucntion for reverse complement strand\n",
    "print(record.seq.reverse_complement())"
   ]
  },
  {
   "cell_type": "code",
   "execution_count": 23,
   "metadata": {},
   "outputs": [],
   "source": [
    "# SeqIO.parse if for files with more than one sequence\n",
    "records = SeqIO.parse('rab20.fasta', 'fasta')"
   ]
  },
  {
   "cell_type": "code",
   "execution_count": 24,
   "metadata": {},
   "outputs": [
    {
     "name": "stdout",
     "output_type": "stream",
     "text": [
      "ID: NP_001086022.1\n",
      "Name: NP_001086022.1\n",
      "Description: NP_001086022.1 RAB20, member RAS oncogene family L homeolog [Xenopus laevis]\n",
      "Number of features: 0\n",
      "Seq('MKKPDLKVVLLGDMNVGKTSLLHRYMERRFQDTVSTVGGAFYLKQWGPYNISIW...CCK', SingleLetterAlphabet())\n",
      "ID: XP_005792157.1\n",
      "Name: XP_005792157.1\n",
      "Description: XP_005792157.1 Rab20, rab family GTPase [Emiliania huxleyi CCMP1516]\n",
      "Number of features: 0\n",
      "Seq('MEVVDLKLVLLGQPGVGKTCLVYRYLYNTFGETISTIGASFAMKKIESNGRPCN...GCC', SingleLetterAlphabet())\n",
      "ID: NP_035357.1\n",
      "Name: NP_035357.1\n",
      "Description: NP_035357.1 ras-related protein Rab-20 [Mus musculus]\n",
      "Number of features: 0\n",
      "Seq('MRKPDGKIVLLGDMNVGKTSLLQRYMERRFPDTVSTVGGAFYLKQWRSFNISIW...CCA', SingleLetterAlphabet())\n",
      "ID: NP_060287.1\n",
      "Name: NP_060287.1\n",
      "Description: NP_060287.1 ras-related protein Rab-20 [Homo sapiens]\n",
      "Number of features: 0\n",
      "Seq('MRKPDSKIVLLGDMNVGKTSLLQRYMERRFPDTVSTVGGAFYLKQWRSYNISIW...CCA', SingleLetterAlphabet())\n",
      "ID: NP_001017295.1\n",
      "Name: NP_001017295.1\n",
      "Description: NP_001017295.1 ras-related protein Rab-20 [Xenopus tropicalis]\n",
      "Number of features: 0\n",
      "Seq('MKKPDLKLVLLGDMNVGKTSLLHRYMERRFQDTVSTVGGAFYLKQWGPYNISIW...RCC', SingleLetterAlphabet())\n"
     ]
    }
   ],
   "source": [
    "# print all objects\n",
    "for record in records:\n",
    "    print(record)"
   ]
  },
  {
   "cell_type": "code",
   "execution_count": 25,
   "metadata": {},
   "outputs": [],
   "source": [
    "# prints all IDs. nothing happend. why?\n",
    "for record in records:\n",
    "    print(record.id)\n",
    "\n",
    "# you need to load your data again! Object records object is a generator    "
   ]
  },
  {
   "cell_type": "code",
   "execution_count": 26,
   "metadata": {},
   "outputs": [
    {
     "name": "stdout",
     "output_type": "stream",
     "text": [
      "NP_001086022.1\n",
      "XP_005792157.1\n",
      "NP_035357.1\n",
      "NP_060287.1\n",
      "NP_001017295.1\n"
     ]
    }
   ],
   "source": [
    "records = SeqIO.parse('rab20.fasta', 'fasta')\n",
    "for record in records:\n",
    "    print(record.id)"
   ]
  },
  {
   "cell_type": "code",
   "execution_count": 30,
   "metadata": {},
   "outputs": [
    {
     "name": "stdout",
     "output_type": "stream",
     "text": [
      "NP_001086022.1 RAB20, member RAS oncogene family L homeolog [Xenopus laevis]\n"
     ]
    }
   ],
   "source": [
    "records = SeqIO.parse('rab20.fasta', 'fasta')\n",
    "record = list(records)[0]\n",
    "print(record.description)"
   ]
  },
  {
   "cell_type": "code",
   "execution_count": 31,
   "metadata": {},
   "outputs": [],
   "source": [
    "# SeqIO.to_dict parse our fasta as a dictionary in a format: ID: sequence\n",
    "from Bio import SeqIO\n",
    "record_dict = SeqIO.to_dict(SeqIO.parse('rab20.fasta', 'fasta'))"
   ]
  },
  {
   "cell_type": "code",
   "execution_count": 32,
   "metadata": {},
   "outputs": [],
   "source": [
    "# making dictionary from fasta file without SeqIO.to_dict\n",
    "record_dict = {}\n",
    "for record in SeqIO.parse('rab20.fasta', 'fasta'):\n",
    "    record_dict[record.id] = record.seq"
   ]
  },
  {
   "cell_type": "code",
   "execution_count": 35,
   "metadata": {},
   "outputs": [
    {
     "name": "stdout",
     "output_type": "stream",
     "text": [
      "MKKPDLKVVLLGDMNVGKTSLLHRYMERRFQDTVSTVGGAFYLKQWGPYNISIWDTAGREQFHGLGSMYCRAASAVILTYDVSNMQSLLELEDRFLGLTDTASDDCIFAVVGNKIDLTEDYNSDSDIEGERPRTSSKIRRQVNLEDAFALYKRIMKYKMLDENVVPAAEKMCFETSAKTGYNVDVLFEGVFNMVIPLIVKKKASGLDETVNLAQSKPNKSKSRCCK\n"
     ]
    }
   ],
   "source": [
    "print(record_dict['NP_001086022.1'])"
   ]
  },
  {
   "cell_type": "code",
   "execution_count": 39,
   "metadata": {},
   "outputs": [],
   "source": [
    "# this simple code will write as a result only those sequence which are longer than 230 amino acids\n",
    "sequences = SeqIO.parse('rab20_ncbi.fasta', 'fasta')\n",
    "\n",
    "with open(\"longer_than_230.fasta\", 'w') as res:\n",
    "    for record in sequences:\n",
    "        if len(record.seq) > 230:\n",
    "            #SeqIO.write(record, res, 'fasta')\n",
    "            res.write(f'>{record.name} {len(record.seq)} \\n{record.seq}\\n')        "
   ]
  },
  {
   "cell_type": "code",
   "execution_count": null,
   "metadata": {},
   "outputs": [],
   "source": [
    "# we can use SeqIO also for format conversion\n",
    "from Bio import SeqIO\n",
    "SeqIO.convert(\"cor6_6.gb\", \"genbank\", \"cor6_6.fasta\", \"fasta\")"
   ]
  }
 ],
 "metadata": {
  "kernelspec": {
   "display_name": "Python 3",
   "language": "python",
   "name": "python3"
  },
  "language_info": {
   "codemirror_mode": {
    "name": "ipython",
    "version": 3
   },
   "file_extension": ".py",
   "mimetype": "text/x-python",
   "name": "python",
   "nbconvert_exporter": "python",
   "pygments_lexer": "ipython3",
   "version": "3.6.5"
  }
 },
 "nbformat": 4,
 "nbformat_minor": 2
}
