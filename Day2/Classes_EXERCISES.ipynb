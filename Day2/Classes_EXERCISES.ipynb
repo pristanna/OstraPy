{
 "cells": [
  {
   "cell_type": "markdown",
   "metadata": {},
   "source": [
    "**1: Prepare simple class only with one attribute - name (use __init__ function) and use this class for creating new instance.**"
   ]
  },
  {
   "cell_type": "code",
   "execution_count": 40,
   "metadata": {},
   "outputs": [
    {
     "name": "stdout",
     "output_type": "stream",
     "text": [
      "my_name\n"
     ]
    }
   ],
   "source": [
    "class Myfirstclass:\n",
    "    def __init__(self, name):\n",
    "        self.name = name\n",
    "\n",
    "new_instance = Myfirstclass('my_name')\n",
    "print(new_instance.name)"
   ]
  },
  {
   "cell_type": "markdown",
   "metadata": {},
   "source": [
    "**2: Prepare class named Sequence and give it attributes: name and sequence and method GC content.**"
   ]
  },
  {
   "cell_type": "code",
   "execution_count": 17,
   "metadata": {},
   "outputs": [
    {
     "data": {
      "text/plain": [
       "0.47058823529411764"
      ]
     },
     "execution_count": 17,
     "metadata": {},
     "output_type": "execute_result"
    }
   ],
   "source": [
    "class Sequence:\n",
    "    def __init__(self, name, sequence):\n",
    "        self.name = name\n",
    "        self.sequence = sequence\n",
    "    \n",
    "    def gc_content(self):\n",
    "        G = self.sequence.count('G')\n",
    "        C = self.sequence.count('C')\n",
    "        return (G+C)/len(self.sequence)\n",
    "\n",
    "dna = Sequence('dna', 'ACTCGATCATGCATCGA')\n",
    "dna.gc_content()"
   ]
  },
  {
   "cell_type": "markdown",
   "metadata": {},
   "source": [
    "**3: Create a subclass of the Sequence class named RNA with a method which checks if first codon is 'ATG' and return True/False value.**"
   ]
  },
  {
   "cell_type": "code",
   "execution_count": 33,
   "metadata": {},
   "outputs": [],
   "source": [
    "class RNA(Sequence):\n",
    "    def atg(self):\n",
    "        return self.sequence[:3] == 'ATG'\n",
    "\n",
    "rna = RNA('myrna', 'ATGCTGATAGATGAT')"
   ]
  },
  {
   "cell_type": "code",
   "execution_count": 35,
   "metadata": {},
   "outputs": [
    {
     "data": {
      "text/plain": [
       "'myrna'"
      ]
     },
     "execution_count": 35,
     "metadata": {},
     "output_type": "execute_result"
    }
   ],
   "source": [
    "rna.name"
   ]
  },
  {
   "cell_type": "code",
   "execution_count": 36,
   "metadata": {},
   "outputs": [
    {
     "data": {
      "text/plain": [
       "'ATGCTGATAGATGAT'"
      ]
     },
     "execution_count": 36,
     "metadata": {},
     "output_type": "execute_result"
    }
   ],
   "source": [
    "rna.sequence"
   ]
  },
  {
   "cell_type": "code",
   "execution_count": 34,
   "metadata": {},
   "outputs": [
    {
     "data": {
      "text/plain": [
       "True"
      ]
     },
     "execution_count": 34,
     "metadata": {},
     "output_type": "execute_result"
    }
   ],
   "source": [
    "rna.atg()"
   ]
  }
 ],
 "metadata": {
  "kernelspec": {
   "display_name": "Python 3",
   "language": "python",
   "name": "python3"
  },
  "language_info": {
   "codemirror_mode": {
    "name": "ipython",
    "version": 3
   },
   "file_extension": ".py",
   "mimetype": "text/x-python",
   "name": "python",
   "nbconvert_exporter": "python",
   "pygments_lexer": "ipython3",
   "version": "3.7.3"
  }
 },
 "nbformat": 4,
 "nbformat_minor": 4
}
