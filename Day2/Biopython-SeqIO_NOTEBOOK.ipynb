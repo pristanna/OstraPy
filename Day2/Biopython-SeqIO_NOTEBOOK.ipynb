{
 "cells": [
  {
   "cell_type": "markdown",
   "metadata": {},
   "source": [
    "# Biopython - Python tools for Computational Molecular Biology\n",
    "\n",
    "More information: http://biopython.org/wiki/SeqIO"
   ]
  },
  {
   "cell_type": "markdown",
   "metadata": {},
   "source": [
    "## SeqIO  - Sequence Input/Output\n",
    "\n",
    "More information: http://biopython.org/wiki/SeqIO"
   ]
  },
  {
   "cell_type": "markdown",
   "metadata": {},
   "source": [
    "* afe"
   ]
  },
  {
   "cell_type": "markdown",
   "metadata": {},
   "source": [
    "### Basic usage of SeqIO"
   ]
  },
  {
   "cell_type": "code",
   "execution_count": 12,
   "metadata": {},
   "outputs": [],
   "source": [
    "from Bio import SeqIO\n",
    "\n",
    "# SeqIO.read only for files with one sequence\n",
    "record = SeqIO.read('one_seq_prot.fasta', 'fasta')"
   ]
  },
  {
   "cell_type": "code",
   "execution_count": 13,
   "metadata": {},
   "outputs": [
    {
     "data": {
      "text/plain": [
       "Bio.SeqRecord.SeqRecord"
      ]
     },
     "execution_count": 13,
     "metadata": {},
     "output_type": "execute_result"
    }
   ],
   "source": [
    "type(record)"
   ]
  },
  {
   "cell_type": "markdown",
   "metadata": {},
   "source": [
    "#### This is an object Bio.SeqRecord.SeqRecord... check which methods it has using record. and TAB"
   ]
  },
  {
   "cell_type": "code",
   "execution_count": 14,
   "metadata": {},
   "outputs": [
    {
     "data": {
      "text/plain": [
       "'NP_035357.1'"
      ]
     },
     "execution_count": 14,
     "metadata": {},
     "output_type": "execute_result"
    }
   ],
   "source": [
    "record.id"
   ]
  },
  {
   "cell_type": "code",
   "execution_count": 15,
   "metadata": {},
   "outputs": [
    {
     "data": {
      "text/plain": [
       "['__add__',\n",
       " '__bool__',\n",
       " '__class__',\n",
       " '__contains__',\n",
       " '__delattr__',\n",
       " '__dict__',\n",
       " '__dir__',\n",
       " '__doc__',\n",
       " '__eq__',\n",
       " '__format__',\n",
       " '__ge__',\n",
       " '__getattribute__',\n",
       " '__getitem__',\n",
       " '__gt__',\n",
       " '__hash__',\n",
       " '__init__',\n",
       " '__init_subclass__',\n",
       " '__iter__',\n",
       " '__le__',\n",
       " '__le___',\n",
       " '__len__',\n",
       " '__lt__',\n",
       " '__module__',\n",
       " '__ne__',\n",
       " '__new__',\n",
       " '__nonzero__',\n",
       " '__radd__',\n",
       " '__reduce__',\n",
       " '__reduce_ex__',\n",
       " '__repr__',\n",
       " '__setattr__',\n",
       " '__sizeof__',\n",
       " '__str__',\n",
       " '__subclasshook__',\n",
       " '__weakref__',\n",
       " '_per_letter_annotations',\n",
       " '_seq',\n",
       " '_set_per_letter_annotations',\n",
       " '_set_seq',\n",
       " 'annotations',\n",
       " 'dbxrefs',\n",
       " 'description',\n",
       " 'features',\n",
       " 'format',\n",
       " 'id',\n",
       " 'letter_annotations',\n",
       " 'lower',\n",
       " 'name',\n",
       " 'reverse_complement',\n",
       " 'seq',\n",
       " 'translate',\n",
       " 'upper']"
      ]
     },
     "execution_count": 15,
     "metadata": {},
     "output_type": "execute_result"
    }
   ],
   "source": [
    "# print all avaible methods and attributes for selected object\n",
    "dir(record)"
   ]
  },
  {
   "cell_type": "code",
   "execution_count": 16,
   "metadata": {},
   "outputs": [
    {
     "name": "stdout",
     "output_type": "stream",
     "text": [
      "ID: NP_035357.1\n",
      "Name: NP_035357.1\n",
      "Description: NP_035357.1 ras-related protein Rab-20 [Mus musculus]\n",
      "Number of features: 0\n",
      "Seq('MRKPDGKIVLLGDMNVGKTSLLQRYMERRFPDTVSTVGGAFYLKQWRSFNISIW...CCA', SingleLetterAlphabet())\n"
     ]
    }
   ],
   "source": [
    "print(record)"
   ]
  },
  {
   "cell_type": "code",
   "execution_count": 17,
   "metadata": {},
   "outputs": [
    {
     "data": {
      "text/plain": [
       "'NP_035357.1'"
      ]
     },
     "execution_count": 17,
     "metadata": {},
     "output_type": "execute_result"
    }
   ],
   "source": [
    "record.id"
   ]
  },
  {
   "cell_type": "code",
   "execution_count": 18,
   "metadata": {},
   "outputs": [
    {
     "data": {
      "text/plain": [
       "Seq('MRKPDGKIVLLGDMNVGKTSLLQRYMERRFPDTVSTVGGAFYLKQWRSFNISIW...CCA', SingleLetterAlphabet())"
      ]
     },
     "execution_count": 18,
     "metadata": {},
     "output_type": "execute_result"
    }
   ],
   "source": [
    "record.seq"
   ]
  },
  {
   "cell_type": "code",
   "execution_count": 19,
   "metadata": {},
   "outputs": [
    {
     "name": "stdout",
     "output_type": "stream",
     "text": [
      "MRKPDGKIVLLGDMNVGKTSLLQRYMERRFPDTVSTVGGAFYLKQWRSFNISIWDTAGREQFHGLGSLYCRGAAAIILTYDVNHPQSLFELEDRFLGLTETANNDCLFAIVGNKVDLTSERDTEGGEKEGPASGKVGSCVSTKVPKQVQPEDAVALYKKILKYKMLDEREMPAAEQMCFETSAKTGYNVDLLFETLFDLVVPMIMRQRAEESDQTVDIASCKTPKQTRSGCCA\n"
     ]
    }
   ],
   "source": [
    "print(record.seq)"
   ]
  },
  {
   "cell_type": "code",
   "execution_count": 20,
   "metadata": {},
   "outputs": [
    {
     "data": {
      "text/plain": [
       "'NP_035357.1 ras-related protein Rab-20 [Mus musculus]'"
      ]
     },
     "execution_count": 20,
     "metadata": {},
     "output_type": "execute_result"
    }
   ],
   "source": [
    "record.description"
   ]
  },
  {
   "cell_type": "code",
   "execution_count": 21,
   "metadata": {},
   "outputs": [],
   "source": [
    "# recrod.dot and TAB will reveal\n",
    "# methods, functions and instances available for the object\n",
    "# record."
   ]
  },
  {
   "cell_type": "code",
   "execution_count": 22,
   "metadata": {},
   "outputs": [],
   "source": [
    "record = SeqIO.read('one_seq_nucl.fasta', 'fasta')"
   ]
  },
  {
   "cell_type": "code",
   "execution_count": 23,
   "metadata": {},
   "outputs": [
    {
     "name": "stdout",
     "output_type": "stream",
     "text": [
      "ATGCGGAAGCCGGATGGGAAGATCGTACTGCTGGGGGACATGAACGTGGGTAAAACGTCGCTGCTGCAGCGCTACATGGAGCGTCGCTTCCCGGACACGGTCAGCACCGTGGGCGGCGCCTTCTACCTGAAGCAGTGGCGTTCCTTCAACATCTCCATATGGGACACCGCAGGGCGGGAGCAGTTTCATGGTCTGGGCTCCCTGTACTGCCGCGGAGCGGCCGCTATCATCCTTACATACGATGTGAACCACCCACAGAGCCTGTTTGAGCTGGAGGACAGATTCCTGGGCCTGACAGAAACAGCCAACAATGACTGCCTGTTTGCCATTGTGGGGAACAAAGTGGACCTGACCTCGGAGCGGGACACCGAGGGCGGGGAGAAGGAAGGACCGGCCTCTGGCAAGGTGGGCAGCTGTGTCTCCACCAAGGTACCCAAGCAGGTGCAGCCAGAGGATGCAGTGGCCCTTTACAAGAAGATCCTGAAGTACAAGATGCTGGATGAGAGGGAGATGCCAGCTGCTGAGCAGATGTGCTTCGAGACCAGTGCCAAGACTGGATACAATGTGGACCTCCTCTTTGAAACCTTGTTTGACCTGGTGGTACCTATGATCATGCGGCAGAGGGCTGAGGAGTCAGATCAGACTGTGGATATAGCCAGCTGCAAAACACCCAAACAGACTAGATCCGGGTGTTGTGCCTAA\n"
     ]
    }
   ],
   "source": [
    "print(record.seq)"
   ]
  },
  {
   "cell_type": "code",
   "execution_count": 24,
   "metadata": {},
   "outputs": [
    {
     "name": "stdout",
     "output_type": "stream",
     "text": [
      "ID: <unknown id>\n",
      "Name: <unknown name>\n",
      "Description: <unknown description>\n",
      "Number of features: 0\n",
      "Seq('TTAGGCACAACACCCGGATCTAGTCTGTTTGGGTGTTTTGCAGCTGGCTATATC...CAT', SingleLetterAlphabet())\n"
     ]
    }
   ],
   "source": [
    "# method for reverse complement strand\n",
    "print(str(record.reverse_complement()))"
   ]
  },
  {
   "cell_type": "code",
   "execution_count": 25,
   "metadata": {},
   "outputs": [
    {
     "name": "stdout",
     "output_type": "stream",
     "text": [
      "TTAGGCACAACACCCGGATCTAGTCTGTTTGGGTGTTTTGCAGCTGGCTATATCCACAGTCTGATCTGACTCCTCAGCCCTCTGCCGCATGATCATAGGTACCACCAGGTCAAACAAGGTTTCAAAGAGGAGGTCCACATTGTATCCAGTCTTGGCACTGGTCTCGAAGCACATCTGCTCAGCAGCTGGCATCTCCCTCTCATCCAGCATCTTGTACTTCAGGATCTTCTTGTAAAGGGCCACTGCATCCTCTGGCTGCACCTGCTTGGGTACCTTGGTGGAGACACAGCTGCCCACCTTGCCAGAGGCCGGTCCTTCCTTCTCCCCGCCCTCGGTGTCCCGCTCCGAGGTCAGGTCCACTTTGTTCCCCACAATGGCAAACAGGCAGTCATTGTTGGCTGTTTCTGTCAGGCCCAGGAATCTGTCCTCCAGCTCAAACAGGCTCTGTGGGTGGTTCACATCGTATGTAAGGATGATAGCGGCCGCTCCGCGGCAGTACAGGGAGCCCAGACCATGAAACTGCTCCCGCCCTGCGGTGTCCCATATGGAGATGTTGAAGGAACGCCACTGCTTCAGGTAGAAGGCGCCGCCCACGGTGCTGACCGTGTCCGGGAAGCGACGCTCCATGTAGCGCTGCAGCAGCGACGTTTTACCCACGTTCATGTCCCCCAGCAGTACGATCTTCCCATCCGGCTTCCGCAT\n"
     ]
    }
   ],
   "source": [
    "# method for reverse complement strand - print just the sequence\n",
    "print(str(record.reverse_complement().seq))"
   ]
  },
  {
   "cell_type": "code",
   "execution_count": 26,
   "metadata": {},
   "outputs": [],
   "source": [
    "# SeqIO.parse if for files with more than one sequence\n",
    "records = SeqIO.parse('rab20.fasta', 'fasta')"
   ]
  },
  {
   "cell_type": "code",
   "execution_count": 27,
   "metadata": {},
   "outputs": [
    {
     "name": "stdout",
     "output_type": "stream",
     "text": [
      "ID: NP_001086022.1\n",
      "Name: NP_001086022.1\n",
      "Description: NP_001086022.1 RAB20, member RAS oncogene family L homeolog [Xenopus laevis]\n",
      "Number of features: 0\n",
      "Seq('MKKPDLKVVLLGDMNVGKTSLLHRYMERRFQDTVSTVGGAFYLKQWGPYNISIW...CCK', SingleLetterAlphabet())\n",
      "ID: XP_005792157.1\n",
      "Name: XP_005792157.1\n",
      "Description: XP_005792157.1 Rab20, rab family GTPase [Emiliania huxleyi CCMP1516]\n",
      "Number of features: 0\n",
      "Seq('MEVVDLKLVLLGQPGVGKTCLVYRYLYNTFGETISTIGASFAMKKIESNGRPCN...GCC', SingleLetterAlphabet())\n",
      "ID: NP_035357.1\n",
      "Name: NP_035357.1\n",
      "Description: NP_035357.1 ras-related protein Rab-20 [Mus musculus]\n",
      "Number of features: 0\n",
      "Seq('MRKPDGKIVLLGDMNVGKTSLLQRYMERRFPDTVSTVGGAFYLKQWRSFNISIW...CCA', SingleLetterAlphabet())\n",
      "ID: NP_060287.1\n",
      "Name: NP_060287.1\n",
      "Description: NP_060287.1 ras-related protein Rab-20 [Homo sapiens]\n",
      "Number of features: 0\n",
      "Seq('MRKPDSKIVLLGDMNVGKTSLLQRYMERRFPDTVSTVGGAFYLKQWRSYNISIW...CCA', SingleLetterAlphabet())\n",
      "ID: NP_001017295.1\n",
      "Name: NP_001017295.1\n",
      "Description: NP_001017295.1 ras-related protein Rab-20 [Xenopus tropicalis]\n",
      "Number of features: 0\n",
      "Seq('MKKPDLKLVLLGDMNVGKTSLLHRYMERRFQDTVSTVGGAFYLKQWGPYNISIW...RCC', SingleLetterAlphabet())\n"
     ]
    }
   ],
   "source": [
    "# print all objects\n",
    "for record in records:\n",
    "    print(record)"
   ]
  },
  {
   "cell_type": "code",
   "execution_count": 28,
   "metadata": {},
   "outputs": [],
   "source": [
    "# prints all IDs. nothing happend. why?\n",
    "for record in records:\n",
    "    print(record.id)\n",
    "\n",
    "# you need to load your data again! Object records object is a generator!!    \n",
    "# generator is a specific function \n",
    "# generator is an object where you can use next and yeald"
   ]
  },
  {
   "cell_type": "markdown",
   "metadata": {},
   "source": [
    "__Generators__\n",
    "\n",
    "link: Dropbox/!PYTHON/190909_OstraPy/Day2/Generators_comprehensions_NOTEBOOK.ipynb\n"
   ]
  },
  {
   "cell_type": "markdown",
   "metadata": {},
   "source": [
    "If we want this function to work all the time, just apply the same logic as with the files (open it every time you use it)"
   ]
  },
  {
   "cell_type": "code",
   "execution_count": 29,
   "metadata": {},
   "outputs": [
    {
     "name": "stdout",
     "output_type": "stream",
     "text": [
      "NP_001086022.1\n",
      "XP_005792157.1\n",
      "NP_035357.1\n",
      "NP_060287.1\n",
      "NP_001017295.1\n"
     ]
    }
   ],
   "source": [
    "records = SeqIO.parse('rab20.fasta', 'fasta')\n",
    "for record in records:\n",
    "    print(record.id)"
   ]
  },
  {
   "cell_type": "code",
   "execution_count": 30,
   "metadata": {},
   "outputs": [
    {
     "data": {
      "text/plain": [
       "generator"
      ]
     },
     "execution_count": 30,
     "metadata": {},
     "output_type": "execute_result"
    }
   ],
   "source": [
    "type(records)"
   ]
  },
  {
   "cell_type": "code",
   "execution_count": 31,
   "metadata": {},
   "outputs": [
    {
     "ename": "StopIteration",
     "evalue": "",
     "output_type": "error",
     "traceback": [
      "\u001b[1;31m---------------------------------------------------------------------------\u001b[0m",
      "\u001b[1;31mStopIteration\u001b[0m                             Traceback (most recent call last)",
      "\u001b[1;32m<ipython-input-31-afc1b9371c83>\u001b[0m in \u001b[0;36m<module>\u001b[1;34m\u001b[0m\n\u001b[0;32m      1\u001b[0m \u001b[1;31m# we can use next to work only with one sequence\u001b[0m\u001b[1;33m\u001b[0m\u001b[1;33m\u001b[0m\u001b[1;33m\u001b[0m\u001b[0m\n\u001b[1;32m----> 2\u001b[1;33m \u001b[0mrecord\u001b[0m \u001b[1;33m=\u001b[0m \u001b[0mnext\u001b[0m\u001b[1;33m(\u001b[0m\u001b[0mrecords\u001b[0m\u001b[1;33m)\u001b[0m\u001b[1;33m\u001b[0m\u001b[1;33m\u001b[0m\u001b[0m\n\u001b[0m",
      "\u001b[1;31mStopIteration\u001b[0m: "
     ]
    }
   ],
   "source": [
    "# we can use next to work only with one sequence\n",
    "record = next(records)"
   ]
  },
  {
   "cell_type": "code",
   "execution_count": null,
   "metadata": {},
   "outputs": [],
   "source": [
    "record.description"
   ]
  },
  {
   "cell_type": "code",
   "execution_count": null,
   "metadata": {},
   "outputs": [],
   "source": [
    "records = SeqIO.parse('rab20.fasta', 'fasta')\n",
    "record = list(records)[0]"
   ]
  },
  {
   "cell_type": "markdown",
   "metadata": {},
   "source": [
    "Create dictionary"
   ]
  },
  {
   "cell_type": "code",
   "execution_count": 32,
   "metadata": {},
   "outputs": [],
   "source": [
    "# a) SeqIO.to_dict parse our fasta as a dictionary in a format: ID: sequence\n",
    "from Bio import SeqIO\n",
    "record_dict = SeqIO.to_dict(SeqIO.parse('rab20.fasta', 'fasta'))"
   ]
  },
  {
   "cell_type": "code",
   "execution_count": 33,
   "metadata": {},
   "outputs": [],
   "source": [
    "# b) making dictionary from fasta file without SeqIO.to_dict\n",
    "record_dict = {}\n",
    "for record in SeqIO.parse('rab20.fasta', 'fasta'):\n",
    "    record_dict[record.id] = record.seq"
   ]
  },
  {
   "cell_type": "code",
   "execution_count": 34,
   "metadata": {},
   "outputs": [
    {
     "data": {
      "text/plain": [
       "Seq('MKKPDLKVVLLGDMNVGKTSLLHRYMERRFQDTVSTVGGAFYLKQWGPYNISIW...CCK', SingleLetterAlphabet())"
      ]
     },
     "execution_count": 34,
     "metadata": {},
     "output_type": "execute_result"
    }
   ],
   "source": [
    "record_dict['NP_001086022.1']"
   ]
  },
  {
   "cell_type": "code",
   "execution_count": 50,
   "metadata": {},
   "outputs": [
    {
     "ename": "AttributeError",
     "evalue": "'Seq' object has no attribute 'seq'",
     "output_type": "error",
     "traceback": [
      "\u001b[1;31m---------------------------------------------------------------------------\u001b[0m",
      "\u001b[1;31mAttributeError\u001b[0m                            Traceback (most recent call last)",
      "\u001b[1;32m<ipython-input-50-dd45df3d17c6>\u001b[0m in \u001b[0;36m<module>\u001b[1;34m\u001b[0m\n\u001b[1;32m----> 1\u001b[1;33m \u001b[0mprint\u001b[0m\u001b[1;33m(\u001b[0m\u001b[0mrecord_dict\u001b[0m\u001b[1;33m[\u001b[0m\u001b[1;34m'NP_001086022.1'\u001b[0m\u001b[1;33m]\u001b[0m\u001b[1;33m.\u001b[0m\u001b[0mseq\u001b[0m\u001b[1;33m)\u001b[0m\u001b[1;33m\u001b[0m\u001b[1;33m\u001b[0m\u001b[0m\n\u001b[0m",
      "\u001b[1;31mAttributeError\u001b[0m: 'Seq' object has no attribute 'seq'"
     ]
    }
   ],
   "source": [
    "record_dict['NP_001086022.1'].seq"
   ]
  },
  {
   "cell_type": "code",
   "execution_count": 48,
   "metadata": {},
   "outputs": [],
   "source": [
    "with open('test_out.fasta', 'w') as res:\n",
    "    for record in SeqIO.parse(\"rab20.fasta\", 'fasta'):\n",
    "        res.write(f'>{record.id}\\n{record.seq}\\n')"
   ]
  },
  {
   "cell_type": "code",
   "execution_count": 49,
   "metadata": {},
   "outputs": [],
   "source": [
    "# we can also use SeqIO.write but we can not manipulate out output so much now\n",
    "from Bio import SeqIO\n",
    "sequences = SeqIO.parse('rab20.fasta', 'fasta')\n",
    "\n",
    "with open(\"test_out.fasta\", 'w') as res:\n",
    "    SeqIO.write(sequences, res, 'fasta')"
   ]
  },
  {
   "cell_type": "code",
   "execution_count": 37,
   "metadata": {},
   "outputs": [],
   "source": [
    "# this simple code will write as a result only those sequence which are longer than 230 amino acids\n",
    "# ugly code, do it better below\n",
    "sequences = SeqIO.parse('rab20_ncbi.fasta', 'fasta')\n",
    "\n",
    "with open(\"longer_than_230.fasta\", 'w') as res:\n",
    "    for record in sequences:\n",
    "        if len(record.seq) > 230:\n",
    "            res.write('>{} longer than 230 \\n{}\\n'.format(record.name, record.seq))            "
   ]
  },
  {
   "cell_type": "code",
   "execution_count": 41,
   "metadata": {},
   "outputs": [],
   "source": [
    "# this simple code will write as a result only those sequence which are longer than 230 amino acids\n",
    "# bettter code\n",
    "sequences = SeqIO.parse('rab20_ncbi.fasta', 'fasta')\n",
    "\n",
    "with open(\"longer_than_230.fasta\", 'w') as res:\n",
    "    for record in sequences:\n",
    "        if len(record.seq) > 230:\n",
    "            res.write(f'>{record.id}\\n{record.seq}\\n')"
   ]
  },
  {
   "cell_type": "code",
   "execution_count": 45,
   "metadata": {},
   "outputs": [
    {
     "ename": "FileNotFoundError",
     "evalue": "[Errno 2] No such file or directory: 'cor6_6.gb'",
     "output_type": "error",
     "traceback": [
      "\u001b[1;31m---------------------------------------------------------------------------\u001b[0m",
      "\u001b[1;31mFileNotFoundError\u001b[0m                         Traceback (most recent call last)",
      "\u001b[1;32m<ipython-input-45-ffa7f14ac17c>\u001b[0m in \u001b[0;36m<module>\u001b[1;34m\u001b[0m\n\u001b[0;32m      2\u001b[0m \u001b[1;31m# we are missing the gb file\u001b[0m\u001b[1;33m\u001b[0m\u001b[1;33m\u001b[0m\u001b[1;33m\u001b[0m\u001b[0m\n\u001b[0;32m      3\u001b[0m \u001b[1;32mfrom\u001b[0m \u001b[0mBio\u001b[0m \u001b[1;32mimport\u001b[0m \u001b[0mSeqIO\u001b[0m\u001b[1;33m\u001b[0m\u001b[1;33m\u001b[0m\u001b[0m\n\u001b[1;32m----> 4\u001b[1;33m \u001b[0mSeqIO\u001b[0m\u001b[1;33m.\u001b[0m\u001b[0mconvert\u001b[0m\u001b[1;33m(\u001b[0m\u001b[1;34m\"cor6_6.gb\"\u001b[0m\u001b[1;33m,\u001b[0m \u001b[1;34m\"genbank\"\u001b[0m\u001b[1;33m,\u001b[0m \u001b[1;34m\"cor6_6.fasta\"\u001b[0m\u001b[1;33m,\u001b[0m \u001b[1;34m\"fasta\"\u001b[0m\u001b[1;33m)\u001b[0m\u001b[1;33m\u001b[0m\u001b[1;33m\u001b[0m\u001b[0m\n\u001b[0m",
      "\u001b[1;32m~\\Anaconda3\\lib\\site-packages\\Bio\\SeqIO\\__init__.py\u001b[0m in \u001b[0;36mconvert\u001b[1;34m(in_file, in_format, out_file, out_format, alphabet)\u001b[0m\n\u001b[0;32m   1089\u001b[0m     \u001b[1;31m# after we have opened the file which is a shame.\u001b[0m\u001b[1;33m\u001b[0m\u001b[1;33m\u001b[0m\u001b[1;33m\u001b[0m\u001b[0m\n\u001b[0;32m   1090\u001b[0m     \u001b[1;32mfrom\u001b[0m \u001b[1;33m.\u001b[0m\u001b[0m_convert\u001b[0m \u001b[1;32mimport\u001b[0m \u001b[0m_handle_convert\u001b[0m  \u001b[1;31m# Lazy import\u001b[0m\u001b[1;33m\u001b[0m\u001b[1;33m\u001b[0m\u001b[0m\n\u001b[1;32m-> 1091\u001b[1;33m     \u001b[1;32mwith\u001b[0m \u001b[0mas_handle\u001b[0m\u001b[1;33m(\u001b[0m\u001b[0min_file\u001b[0m\u001b[1;33m,\u001b[0m \u001b[0min_mode\u001b[0m\u001b[1;33m)\u001b[0m \u001b[1;32mas\u001b[0m \u001b[0min_handle\u001b[0m\u001b[1;33m:\u001b[0m\u001b[1;33m\u001b[0m\u001b[1;33m\u001b[0m\u001b[0m\n\u001b[0m\u001b[0;32m   1092\u001b[0m         \u001b[1;32mwith\u001b[0m \u001b[0mas_handle\u001b[0m\u001b[1;33m(\u001b[0m\u001b[0mout_file\u001b[0m\u001b[1;33m,\u001b[0m \u001b[0mout_mode\u001b[0m\u001b[1;33m)\u001b[0m \u001b[1;32mas\u001b[0m \u001b[0mout_handle\u001b[0m\u001b[1;33m:\u001b[0m\u001b[1;33m\u001b[0m\u001b[1;33m\u001b[0m\u001b[0m\n\u001b[0;32m   1093\u001b[0m             count = _handle_convert(in_handle, in_format,\n",
      "\u001b[1;32m~\\Anaconda3\\lib\\contextlib.py\u001b[0m in \u001b[0;36m__enter__\u001b[1;34m(self)\u001b[0m\n\u001b[0;32m    110\u001b[0m         \u001b[1;32mdel\u001b[0m \u001b[0mself\u001b[0m\u001b[1;33m.\u001b[0m\u001b[0margs\u001b[0m\u001b[1;33m,\u001b[0m \u001b[0mself\u001b[0m\u001b[1;33m.\u001b[0m\u001b[0mkwds\u001b[0m\u001b[1;33m,\u001b[0m \u001b[0mself\u001b[0m\u001b[1;33m.\u001b[0m\u001b[0mfunc\u001b[0m\u001b[1;33m\u001b[0m\u001b[1;33m\u001b[0m\u001b[0m\n\u001b[0;32m    111\u001b[0m         \u001b[1;32mtry\u001b[0m\u001b[1;33m:\u001b[0m\u001b[1;33m\u001b[0m\u001b[1;33m\u001b[0m\u001b[0m\n\u001b[1;32m--> 112\u001b[1;33m             \u001b[1;32mreturn\u001b[0m \u001b[0mnext\u001b[0m\u001b[1;33m(\u001b[0m\u001b[0mself\u001b[0m\u001b[1;33m.\u001b[0m\u001b[0mgen\u001b[0m\u001b[1;33m)\u001b[0m\u001b[1;33m\u001b[0m\u001b[1;33m\u001b[0m\u001b[0m\n\u001b[0m\u001b[0;32m    113\u001b[0m         \u001b[1;32mexcept\u001b[0m \u001b[0mStopIteration\u001b[0m\u001b[1;33m:\u001b[0m\u001b[1;33m\u001b[0m\u001b[1;33m\u001b[0m\u001b[0m\n\u001b[0;32m    114\u001b[0m             \u001b[1;32mraise\u001b[0m \u001b[0mRuntimeError\u001b[0m\u001b[1;33m(\u001b[0m\u001b[1;34m\"generator didn't yield\"\u001b[0m\u001b[1;33m)\u001b[0m \u001b[1;32mfrom\u001b[0m \u001b[1;32mNone\u001b[0m\u001b[1;33m\u001b[0m\u001b[1;33m\u001b[0m\u001b[0m\n",
      "\u001b[1;32m~\\Anaconda3\\lib\\site-packages\\Bio\\File.py\u001b[0m in \u001b[0;36mas_handle\u001b[1;34m(handleish, mode, **kwargs)\u001b[0m\n\u001b[0;32m    116\u001b[0m                 \u001b[1;32myield\u001b[0m \u001b[0mfp\u001b[0m\u001b[1;33m\u001b[0m\u001b[1;33m\u001b[0m\u001b[0m\n\u001b[0;32m    117\u001b[0m         \u001b[1;32melse\u001b[0m\u001b[1;33m:\u001b[0m\u001b[1;33m\u001b[0m\u001b[1;33m\u001b[0m\u001b[0m\n\u001b[1;32m--> 118\u001b[1;33m             \u001b[1;32mwith\u001b[0m \u001b[0mopen\u001b[0m\u001b[1;33m(\u001b[0m\u001b[0mhandleish\u001b[0m\u001b[1;33m,\u001b[0m \u001b[0mmode\u001b[0m\u001b[1;33m,\u001b[0m \u001b[1;33m**\u001b[0m\u001b[0mkwargs\u001b[0m\u001b[1;33m)\u001b[0m \u001b[1;32mas\u001b[0m \u001b[0mfp\u001b[0m\u001b[1;33m:\u001b[0m\u001b[1;33m\u001b[0m\u001b[1;33m\u001b[0m\u001b[0m\n\u001b[0m\u001b[0;32m    119\u001b[0m                 \u001b[1;32myield\u001b[0m \u001b[0mfp\u001b[0m\u001b[1;33m\u001b[0m\u001b[1;33m\u001b[0m\u001b[0m\n\u001b[0;32m    120\u001b[0m     \u001b[1;32melse\u001b[0m\u001b[1;33m:\u001b[0m\u001b[1;33m\u001b[0m\u001b[1;33m\u001b[0m\u001b[0m\n",
      "\u001b[1;31mFileNotFoundError\u001b[0m: [Errno 2] No such file or directory: 'cor6_6.gb'"
     ]
    }
   ],
   "source": [
    "# we can use SeqIO also for format conversion, from GenBank code to fasta\n",
    "# we are missing the gb file\n",
    "from Bio import SeqIO\n",
    "SeqIO.convert(\"cor6_6.gb\", \"genbank\", \"cor6_6.fasta\", \"fasta\")"
   ]
  }
 ],
 "metadata": {
  "kernelspec": {
   "display_name": "Python 3",
   "language": "python",
   "name": "python3"
  },
  "language_info": {
   "codemirror_mode": {
    "name": "ipython",
    "version": 3
   },
   "file_extension": ".py",
   "mimetype": "text/x-python",
   "name": "python",
   "nbconvert_exporter": "python",
   "pygments_lexer": "ipython3",
   "version": "3.7.3"
  }
 },
 "nbformat": 4,
 "nbformat_minor": 2
}
