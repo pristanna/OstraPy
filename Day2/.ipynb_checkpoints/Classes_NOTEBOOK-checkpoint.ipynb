{
 "cells": [
  {
   "cell_type": "markdown",
   "metadata": {},
   "source": [
    "# Classes"
   ]
  },
  {
   "cell_type": "markdown",
   "metadata": {},
   "source": [
    "* everything in Python is an object\n",
    "* objects are created using recipes = classes\n",
    "* how to create instance of some object\n",
    "* classes are written with big letters\n",
    "* class is also object\n",
    "* difference between type and class\n",
    "    * ... \n",
    "* instance − An individual object of a certain class. An object obj that belongs to a class"
   ]
  },
  {
   "cell_type": "code",
   "execution_count": null,
   "metadata": {},
   "outputs": [],
   "source": [
    "# we are creating completely new class\n",
    "# it is an empty object\n",
    "class Sequence:\n",
    "    pass"
   ]
  },
  {
   "cell_type": "code",
   "execution_count": null,
   "metadata": {},
   "outputs": [],
   "source": [
    "record1 = Sequence()\n",
    "record2 = Sequence()\n",
    "print(record1)\n",
    "print(record2)"
   ]
  },
  {
   "cell_type": "code",
   "execution_count": null,
   "metadata": {},
   "outputs": [],
   "source": [
    "record1.seq = \"ATCG\""
   ]
  },
  {
   "cell_type": "code",
   "execution_count": null,
   "metadata": {},
   "outputs": [],
   "source": [
    "print(record1.seq)"
   ]
  },
  {
   "cell_type": "code",
   "execution_count": null,
   "metadata": {},
   "outputs": [],
   "source": [
    "type(record2)"
   ]
  },
  {
   "cell_type": "code",
   "execution_count": null,
   "metadata": {},
   "outputs": [],
   "source": [
    "record1.name = \"random_seq\""
   ]
  },
  {
   "cell_type": "code",
   "execution_count": null,
   "metadata": {},
   "outputs": [],
   "source": [
    "record1.name"
   ]
  },
  {
   "cell_type": "markdown",
   "metadata": {},
   "source": [
    "### Constructors, dundrs\n",
    "\n",
    "__ constructor __\n",
    "* connected to a definition of the class\n",
    "* it is kind of function\n",
    "* self is special, dont use it anywhere else\n",
    "    * refers to the object itself... if I create record1 it refers to it\n",
    "* how to make  optional instances?\n",
    "* you can also create default arguments using number=3, or number=None"
   ]
  },
  {
   "cell_type": "code",
   "execution_count": null,
   "metadata": {},
   "outputs": [],
   "source": [
    "class Sequence:\n",
    "    def __init__(self, name, sequence):\n",
    "        self.name = name\n",
    "        self.seq = sequence"
   ]
  },
  {
   "cell_type": "code",
   "execution_count": null,
   "metadata": {},
   "outputs": [],
   "source": [
    "my_dna = Sequence('random_seq', 'TAGCTAGTCTAGCTGA')"
   ]
  },
  {
   "cell_type": "code",
   "execution_count": null,
   "metadata": {},
   "outputs": [],
   "source": [
    "my_dna.seq"
   ]
  },
  {
   "cell_type": "code",
   "execution_count": null,
   "metadata": {},
   "outputs": [],
   "source": [
    "my_dna.seq[0:5]"
   ]
  },
  {
   "cell_type": "markdown",
   "metadata": {},
   "source": [
    "### Difference among methods and attributes/parameters\n",
    "* gc_content is a method\n",
    "* methods are functions which are inside of the class definition\n",
    "* gc_content operates on itself \n",
    "* __ __ are denoting something special inside of python.... something that existed before (eg. some already existing function). We cannot use the undersocres for our own functions\n",
    "* eg. function len has to return integer, cannot return string\n",
    "* attribute vs. method \n",
    "    * parametr/attribute is called without ()\n",
    "    * methods (functions) has to be called with ()\n",
    "* assert\n",
    "    * You can force people to use string or intiger or somethng like that using assertion\n",
    "    * if the assertion is pute in a script it ignores assetion??\n",
    "    * if the usere didnt put correct type it raises error\n"
   ]
  },
  {
   "cell_type": "code",
   "execution_count": null,
   "metadata": {},
   "outputs": [],
   "source": [
    "class Sequence:\n",
    "    def __init__(self, name, sequence):\n",
    "        assert type(name) == str, 'name hase to be str'\n",
    "        self.name = name\n",
    "        self.seq = sequence\n",
    "        \n",
    "    def gc_content(self):\n",
    "        G = self.seq.count('G')\n",
    "        C = self.seq.count('C')\n",
    "        return (G+C)/len(self.seq)\n",
    "    \n",
    "my_dna = Sequence('random_seq', 'TAGCTAGTCTAGCTGA')"
   ]
  },
  {
   "cell_type": "code",
   "execution_count": null,
   "metadata": {},
   "outputs": [],
   "source": [
    "my_dna.gc_content()"
   ]
  },
  {
   "cell_type": "code",
   "execution_count": null,
   "metadata": {},
   "outputs": [],
   "source": [
    "len(my_dna)"
   ]
  },
  {
   "cell_type": "code",
   "execution_count": null,
   "metadata": {},
   "outputs": [],
   "source": [
    "class Sequence:\n",
    "    def __init__(self, name, sequence):\n",
    "        self.name = name\n",
    "        self.seq = sequence\n",
    "        \n",
    "    def gc_content(self):\n",
    "        G = self.seq.count('G')\n",
    "        C = self.seq.count('C')\n",
    "        return (G+C)/len(self.seq)\n",
    "    \n",
    "    def __len__(self):\n",
    "        return len(self.seq)\n",
    "    \n",
    "my_dna = Sequence('random_seq', 'TAGCTAGTCTAGCTGA')"
   ]
  },
  {
   "cell_type": "code",
   "execution_count": null,
   "metadata": {},
   "outputs": [],
   "source": [
    "len(my_dna)"
   ]
  },
  {
   "cell_type": "markdown",
   "metadata": {},
   "source": [
    "### Heritability (dědičnost)\n",
    "* dont't do copy paste... better to create function!!\n",
    "* RNA is a child of Sequence... it inherits everything, but there is some similarity\n",
    "* RNA is new class"
   ]
  },
  {
   "cell_type": "code",
   "execution_count": null,
   "metadata": {},
   "outputs": [],
   "source": [
    "class RNA(Sequence):\n",
    "    def rna_specific_method(self):\n",
    "        return 'Hi I am RNA. Have a nice day.'"
   ]
  },
  {
   "cell_type": "code",
   "execution_count": null,
   "metadata": {},
   "outputs": [],
   "source": [
    "my_rna = RNA('BLABLA', 'AGCTAGCTAGCTGATCA')"
   ]
  },
  {
   "cell_type": "code",
   "execution_count": null,
   "metadata": {},
   "outputs": [],
   "source": [
    "my_rna.gc_content()"
   ]
  },
  {
   "cell_type": "code",
   "execution_count": null,
   "metadata": {},
   "outputs": [],
   "source": [
    "my_rna.rna_specific_method()"
   ]
  },
  {
   "cell_type": "markdown",
   "metadata": {},
   "source": [
    "### Classes, modules, packages....\n",
    "\n",
    "* you can import just things with name\n",
    "* if you import something without name, it is executed\n",
    "* to prevent it's execution...  you can put it in if __ main __ something"
   ]
  },
  {
   "cell_type": "code",
   "execution_count": null,
   "metadata": {},
   "outputs": [],
   "source": [
    "# save this as my_bio.py\n",
    "\n",
    "class Sequence:\n",
    "    def __init__(self, name, sequence):\n",
    "        self.name = name\n",
    "        self.seq = sequence\n",
    "        \n",
    "    def gc_content(self):\n",
    "        G = self.seq.count('G')\n",
    "        C = self.seq.count('C')\n",
    "        return (G+C)/len(self.seq)\n",
    "    \n",
    "    def __len__(self):\n",
    "        return len(self.seq)\n",
    "    \n",
    "\n",
    "def gc_content(seq):\n",
    "    G = seq.count('G')\n",
    "    C = seq.count('C')\n",
    "    return (G+C)/len(seq)"
   ]
  },
  {
   "cell_type": "code",
   "execution_count": null,
   "metadata": {},
   "outputs": [],
   "source": [
    "# in a different notebook\n",
    "from my_bio import Sequence, gc_content"
   ]
  },
  {
   "cell_type": "code",
   "execution_count": null,
   "metadata": {},
   "outputs": [],
   "source": [
    "gc_content('ACTTATAA')"
   ]
  },
  {
   "cell_type": "code",
   "execution_count": null,
   "metadata": {},
   "outputs": [],
   "source": [
    "my_dna = Sequence('random_seq', 'TAGCTAGTCTAGCTGA')"
   ]
  },
  {
   "cell_type": "code",
   "execution_count": null,
   "metadata": {},
   "outputs": [],
   "source": [
    "my_dna.seq"
   ]
  },
  {
   "cell_type": "code",
   "execution_count": 39,
   "metadata": {},
   "outputs": [
    {
     "data": {
      "text/plain": [
       "__main__.Sequence"
      ]
     },
     "execution_count": 39,
     "metadata": {},
     "output_type": "execute_result"
    }
   ],
   "source": [
    "# shows different type if the definition is in the scritp itself or coming from some module\n",
    "# __main__ means that it is defined in the script itself\n",
    "# my_bio when imported as as module\n",
    "type(my_dna)"
   ]
  },
  {
   "cell_type": "markdown",
   "metadata": {},
   "source": [
    "### Why to use classes\n",
    "\n",
    "* classes helps you to keep code well organized\n",
    "* and to hold the same logic, the logic is connected to the object \n",
    "* the logic is implemented itself\n",
    "* more elegant than try to solve everything with dictionaries... we want to be simple\n"
   ]
  },
  {
   "cell_type": "code",
   "execution_count": 2,
   "metadata": {},
   "outputs": [],
   "source": [
    "students = {}"
   ]
  },
  {
   "cell_type": "code",
   "execution_count": 4,
   "metadata": {},
   "outputs": [],
   "source": [
    "# too many nested things, dictionary within a dictionary within a dictionary\n",
    "students['s1'] = {'math': 1, 'eng':2}\n",
    "students['s2'] = {'math': 1, 'eng':2}\n",
    "students['s3'] = {'math': 1, 'eng':2}\n",
    "students['s4'] = {'math': 1, 'eng':2}\n",
    "students['s5'] = {'math': 1, 'eng':2}"
   ]
  },
  {
   "cell_type": "code",
   "execution_count": 5,
   "metadata": {},
   "outputs": [
    {
     "data": {
      "text/plain": [
       "2"
      ]
     },
     "execution_count": 5,
     "metadata": {},
     "output_type": "execute_result"
    }
   ],
   "source": [
    "students['s1']['eng']"
   ]
  },
  {
   "cell_type": "markdown",
   "metadata": {},
   "source": [
    "it is better to use classes instead"
   ]
  }
 ],
 "metadata": {
  "kernelspec": {
   "display_name": "Python 3",
   "language": "python",
   "name": "python3"
  },
  "language_info": {
   "codemirror_mode": {
    "name": "ipython",
    "version": 3
   },
   "file_extension": ".py",
   "mimetype": "text/x-python",
   "name": "python",
   "nbconvert_exporter": "python",
   "pygments_lexer": "ipython3",
   "version": "3.7.3"
  }
 },
 "nbformat": 4,
 "nbformat_minor": 2
}
