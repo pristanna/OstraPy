{
 "cells": [
  {
   "cell_type": "markdown",
   "metadata": {},
   "source": [
    "**1: Print name for every sequence in rab20.fasta.**"
   ]
  },
  {
   "cell_type": "code",
   "execution_count": 4,
   "metadata": {},
   "outputs": [],
   "source": [
    "from Bio import SeqIO"
   ]
  },
  {
   "cell_type": "code",
   "execution_count": 3,
   "metadata": {},
   "outputs": [
    {
     "name": "stdout",
     "output_type": "stream",
     "text": [
      "NP_001086022.1\n",
      "NP_001086022.1 RAB20, member RAS oncogene family L homeolog [Xenopus laevis]\n",
      "XP_005792157.1\n",
      "XP_005792157.1 Rab20, rab family GTPase [Emiliania huxleyi CCMP1516]\n",
      "NP_035357.1\n",
      "NP_035357.1 ras-related protein Rab-20 [Mus musculus]\n",
      "NP_060287.1\n",
      "NP_060287.1 ras-related protein Rab-20 [Homo sapiens]\n",
      "NP_001017295.1\n",
      "NP_001017295.1 ras-related protein Rab-20 [Xenopus tropicalis]\n"
     ]
    }
   ],
   "source": [
    "records = SeqIO.parse('rab20.fasta', 'fasta') # this is a generator\n",
    "\n",
    "for record in records: # record is an object of generator\n",
    "    print(record.name)\n",
    "    print(record.description)"
   ]
  },
  {
   "cell_type": "markdown",
   "metadata": {},
   "source": [
    "**2: Print sequence for every sequence in rab20.fasta.**"
   ]
  },
  {
   "cell_type": "code",
   "execution_count": 20,
   "metadata": {},
   "outputs": [
    {
     "name": "stdout",
     "output_type": "stream",
     "text": [
      "MKKPDLKVVLLGDMNVGKTSLLHRYMERRFQDTVSTVGGAFYLKQWGPYNISIWDTAGREQFHGLGSMYCRAASAVILTYDVSNMQSLLELEDRFLGLTDTASDDCIFAVVGNKIDLTEDYNSDSDIEGERPRTSSKIRRQVNLEDAFALYKRIMKYKMLDENVVPAAEKMCFETSAKTGYNVDVLFEGVFNMVIPLIVKKKASGLDETVNLAQSKPNKSKSRCCK\n",
      "MEVVDLKLVLLGQPGVGKTCLVYRYLYNTFGETISTIGASFAMKKIESNGRPCNLGIWDTAGQERFDSLSSFYCRGARAAIICFDLTDRASFECLQSKWVKKVLDEAEPGCHICIVGTKLDLVQAGRYGRAVSEEEVRAVAAKHHADVFEVSSKAGTGIGEIFEAVVQHFHSRGASGGAGHGGLSVSGVQAREGGGCC\n",
      "MRKPDGKIVLLGDMNVGKTSLLQRYMERRFPDTVSTVGGAFYLKQWRSFNISIWDTAGREQFHGLGSLYCRGAAAIILTYDVNHPQSLFELEDRFLGLTETANNDCLFAIVGNKVDLTSERDTEGGEKEGPASGKVGSCVSTKVPKQVQPEDAVALYKKILKYKMLDEREMPAAEQMCFETSAKTGYNVDLLFETLFDLVVPMIMRQRAEESDQTVDIASCKTPKQTRSGCCA\n",
      "MRKPDSKIVLLGDMNVGKTSLLQRYMERRFPDTVSTVGGAFYLKQWRSYNISIWDTAGREQFHGLGSMYCRGAAAIILTYDVNHRQSLVELEDRFLGLTDTASKDCLFAIVGNKVDLTEEGALAGQEKEECSPNMDAGDRVSPRAPKQVQLEDAVALYKKILKYKMLDEQDVPAAEQMCFETSAKTGYNVDLLFETLFDLVVPMILQQRAERPSHTVDISSHKPPKRTRSGCCA\n",
      "MKKPDLKLVLLGDMNVGKTSLLHRYMERRFQDTVSTVGGAFYLKQWGPYNISIWDTAGREQFHGLGSMYCRAASAVILTYDVSNMQSLLELEDRFLGLTDTANDDCIFAVVGNKIDLTDDYDSESDMEGERPRTSSKIRKQVDLEDAIALYKRIMKYKMLDENVVPAAEKMCFETSAKTGYNVDGLFEGVFNMVVPLIVKKKASGHDETVNLAQSKPEKSKNRCC\n"
     ]
    }
   ],
   "source": [
    "record = SeqIO.parse('rab20.fasta', 'fasta')\n",
    "\n",
    "for record in records:\n",
    "    print(record.seq)"
   ]
  },
  {
   "cell_type": "markdown",
   "metadata": {},
   "source": [
    "**3: Write name for every sequence in rab20_ncbi.fasta to a file named result_names.txt. One name per line.**"
   ]
  },
  {
   "cell_type": "code",
   "execution_count": 17,
   "metadata": {},
   "outputs": [],
   "source": [
    "from Bio import SeqIO\n",
    "\n",
    "with open('result_names.txt', 'w') as res:\n",
    "    for record in SeqIO.parse(\"rab20_ncbi.fasta\", 'fasta'):\n",
    "        res.write(f'{record.name}\\n')"
   ]
  },
  {
   "cell_type": "markdown",
   "metadata": {},
   "source": [
    "**4: How many sequences from rab20_ncbi.fasta (100 sequences) are longer than 230 aa? Put their IDs into list and print that list.** "
   ]
  },
  {
   "cell_type": "code",
   "execution_count": 6,
   "metadata": {},
   "outputs": [
    {
     "name": "stdout",
     "output_type": "stream",
     "text": [
      "['NP_035357.1', 'NP_060287.1', 'XP_012812505.1', 'NP_001103005.1', 'NP_001180018.1', 'XP_003482979.1', 'XP_011488243.1', 'XP_012607326.1', 'XP_003980577.1', 'XP_002924657.1', 'XP_006260526.1', 'XP_003452978.1', 'XP_004054780.1', 'XP_002742582.1', 'XP_017806912.1', 'XP_017723686.1', 'XP_008853412.1', 'XP_008399832.1', 'XP_008326909.1', 'XP_003215398.1', 'XP_007615037.1', 'XP_003509289.1', 'XP_007555430.1', 'XP_001375109.1', 'XP_016059631.1', 'XP_016000747.1', 'XP_006981391.1', 'XP_015821736.1', 'XP_007441773.1', 'XP_015667809.1', 'XP_006909427.1', 'XP_006770757.1', 'XP_007075355.1', 'XP_015339563.1', 'XP_005586295.1', 'XP_015270200.1', 'XP_015248640.1', 'XP_006639323.1', 'XP_001082373.1', 'XP_011974853.1', 'XP_004012287.1', 'XP_014870302.1', 'XP_014858650.1', 'XP_014707633.1', 'XP_006159707.1', 'XP_014421802.1', 'XP_006119758.1', 'XP_006017293.1', 'XP_005798188.2', 'XP_005904703.1', 'XP_006086968.1', 'XP_004551414.1', 'XP_005945957.1', 'XP_003832132.1', 'XP_005441649.2', 'XP_014006821.1', 'XP_013872976.1', 'XP_542668.2', 'XP_013910790.1', 'XP_013809485.1', 'XP_005747231.1', 'XP_005317044.1', 'XP_005366357.1', 'XP_005077411.1', 'XP_004746096.1', 'XP_012878189.1', 'XP_004663427.1', 'XP_012730529.1', 'XP_003800042.1', 'XP_012493389.1', 'XP_004409646.1', 'XP_004273652.1', 'XP_003765785.1', 'XP_004447077.1', 'XP_003270228.1', 'XP_011913413.1']\n"
     ]
    }
   ],
   "source": [
    "sequences = SeqIO.parse('rab20_ncbi.fasta', 'fasta')\n",
    "\n",
    "list = []\n",
    "\n",
    "for record in sequences:\n",
    "    if len(record.seq) > 230:\n",
    "        list.append(record.id)\n",
    "print(list)\n",
    "    "
   ]
  },
  {
   "cell_type": "markdown",
   "metadata": {},
   "source": [
    "**5: Prepare sequence dictionary and use full names as keys. There is no need for to_dict function.**"
   ]
  },
  {
   "cell_type": "code",
   "execution_count": 11,
   "metadata": {},
   "outputs": [
    {
     "name": "stdout",
     "output_type": "stream",
     "text": [
      "MKKPDLKVVLLGDMNVGKTSLLHRYMERRFQDTVSTVGGAFYLKQWGPYNISIWDTAGREQFHGLGSMYCRAASAVILTYDVSNMQSLLELEDRFLGLTDTASDDCIFAVVGNKIDLTEDYNSDSDIEGERPRTSSKIRRQVNLEDAFALYKRIMKYKMLDENVVPAAEKMCFETSAKTGYNVDVLFEGVFNMVIPLIVKKKASGLDETVNLAQSKPNKSKSRCCK\n"
     ]
    }
   ],
   "source": [
    "sequences = SeqIO.parse('rab20_ncbi.fasta', 'fasta')\n",
    "\n",
    "seq_dir = {}\n",
    "\n",
    "for record in sequences:\n",
    "    seq_dir[record.name] = str(record.seq)\n",
    "       \n",
    "print(seq_dir['NP_001086022.1'])"
   ]
  }
 ],
 "metadata": {
  "kernelspec": {
   "display_name": "Python 3",
   "language": "python",
   "name": "python3"
  },
  "language_info": {
   "codemirror_mode": {
    "name": "ipython",
    "version": 3
   },
   "file_extension": ".py",
   "mimetype": "text/x-python",
   "name": "python",
   "nbconvert_exporter": "python",
   "pygments_lexer": "ipython3",
   "version": "3.7.3"
  }
 },
 "nbformat": 4,
 "nbformat_minor": 4
}
