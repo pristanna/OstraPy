{
 "cells": [
  {
   "cell_type": "markdown",
   "metadata": {},
   "source": [
    "## Import"
   ]
  },
  {
   "cell_type": "code",
   "execution_count": null,
   "metadata": {},
   "outputs": [],
   "source": [
    "import this"
   ]
  },
  {
   "cell_type": "markdown",
   "metadata": {},
   "source": [
    "## the os module"
   ]
  },
  {
   "cell_type": "markdown",
   "metadata": {},
   "source": [
    "* os is allowing to do basically the same things as in unix terminal"
   ]
  },
  {
   "cell_type": "code",
   "execution_count": 2,
   "metadata": {
    "collapsed": true,
    "jupyter": {
     "outputs_hidden": true
    }
   },
   "outputs": [],
   "source": [
    "import os"
   ]
  },
  {
   "cell_type": "code",
   "execution_count": 3,
   "metadata": {},
   "outputs": [
    {
     "data": {
      "text/plain": [
       "'C:\\\\Users\\\\Anna\\\\Dropbox\\\\!PYTHON\\\\190909_OstraPy\\\\Day2'"
      ]
     },
     "execution_count": 3,
     "metadata": {},
     "output_type": "execute_result"
    }
   ],
   "source": [
    "# alternative to unix pwd\n",
    "os.getcwd()"
   ]
  },
  {
   "cell_type": "code",
   "execution_count": 4,
   "metadata": {
    "collapsed": true,
    "jupyter": {
     "outputs_hidden": true
    }
   },
   "outputs": [],
   "source": [
    "os.chdir('..')"
   ]
  },
  {
   "cell_type": "code",
   "execution_count": 5,
   "metadata": {},
   "outputs": [
    {
     "data": {
      "text/plain": [
       "'C:\\\\Users\\\\Anna\\\\Dropbox\\\\!PYTHON\\\\190909_OstraPy'"
      ]
     },
     "execution_count": 5,
     "metadata": {},
     "output_type": "execute_result"
    }
   ],
   "source": [
    "os.getcwd()"
   ]
  },
  {
   "cell_type": "code",
   "execution_count": 6,
   "metadata": {
    "collapsed": true,
    "jupyter": {
     "outputs_hidden": true
    }
   },
   "outputs": [],
   "source": [
    "os.chdir('Day2')"
   ]
  },
  {
   "cell_type": "code",
   "execution_count": 7,
   "metadata": {
    "collapsed": true,
    "jupyter": {
     "outputs_hidden": true
    }
   },
   "outputs": [],
   "source": [
    "os.mkdir('new_dir')"
   ]
  },
  {
   "cell_type": "code",
   "execution_count": 8,
   "metadata": {},
   "outputs": [
    {
     "data": {
      "text/plain": [
       "['.ipynb_checkpoints',\n",
       " 'Biopython-SeqIO_EXERCISES.ipynb',\n",
       " 'Biopython-SeqIO_NOTEBOOK.ipynb',\n",
       " 'Biopython-SeqIO_SOLUTIONS.ipynb',\n",
       " 'Classes_EXERCISES.ipynb',\n",
       " 'Classes_NOTEBOOK.ipynb',\n",
       " 'Classes_SOLUTIONS.ipynb',\n",
       " 'Generators_comprehensions_NOTEBOOK.ipynb',\n",
       " 'Import,std_library_EXERCISES.ipynb',\n",
       " 'Import,std_library_NOTEBOOK.ipynb',\n",
       " 'Import,std_library_SOLUTIONS.ipynb',\n",
       " 'longer_than_230.fasta',\n",
       " 'new_dir',\n",
       " 'one_seq_nucl.fasta',\n",
       " 'one_seq_prot.fasta',\n",
       " 'rab20.fasta',\n",
       " 'rab20_ncbi.fasta',\n",
       " 'rab24.nt.fasta',\n",
       " 'result_names',\n",
       " 'result_names.txt',\n",
       " 'test_out.fasta']"
      ]
     },
     "execution_count": 8,
     "metadata": {},
     "output_type": "execute_result"
    }
   ],
   "source": [
    "os.listdir()"
   ]
  },
  {
   "cell_type": "code",
   "execution_count": 9,
   "metadata": {
    "collapsed": true,
    "jupyter": {
     "outputs_hidden": true
    }
   },
   "outputs": [],
   "source": [
    "os.rmdir('new_dir')"
   ]
  },
  {
   "cell_type": "code",
   "execution_count": 10,
   "metadata": {},
   "outputs": [
    {
     "data": {
      "text/plain": [
       "['.ipynb_checkpoints',\n",
       " 'Biopython-SeqIO_EXERCISES.ipynb',\n",
       " 'Biopython-SeqIO_NOTEBOOK.ipynb',\n",
       " 'Biopython-SeqIO_SOLUTIONS.ipynb',\n",
       " 'Classes_EXERCISES.ipynb',\n",
       " 'Classes_NOTEBOOK.ipynb',\n",
       " 'Classes_SOLUTIONS.ipynb',\n",
       " 'Generators_comprehensions_NOTEBOOK.ipynb',\n",
       " 'Import,std_library_EXERCISES.ipynb',\n",
       " 'Import,std_library_NOTEBOOK.ipynb',\n",
       " 'Import,std_library_SOLUTIONS.ipynb',\n",
       " 'longer_than_230.fasta',\n",
       " 'one_seq_nucl.fasta',\n",
       " 'one_seq_prot.fasta',\n",
       " 'rab20.fasta',\n",
       " 'rab20_ncbi.fasta',\n",
       " 'rab24.nt.fasta',\n",
       " 'result_names',\n",
       " 'result_names.txt',\n",
       " 'test_out.fasta']"
      ]
     },
     "execution_count": 10,
     "metadata": {},
     "output_type": "execute_result"
    }
   ],
   "source": [
    "os.listdir()"
   ]
  },
  {
   "cell_type": "code",
   "execution_count": null,
   "metadata": {
    "collapsed": true,
    "jupyter": {
     "outputs_hidden": true
    }
   },
   "outputs": [],
   "source": [
    "os.remove('some_file')"
   ]
  },
  {
   "cell_type": "code",
   "execution_count": null,
   "metadata": {
    "collapsed": true,
    "jupyter": {
     "outputs_hidden": true
    }
   },
   "outputs": [],
   "source": [
    "os.rename('test.txt', 'done.txt')"
   ]
  },
  {
   "cell_type": "code",
   "execution_count": 12,
   "metadata": {
    "collapsed": true,
    "jupyter": {
     "outputs_hidden": true
    }
   },
   "outputs": [],
   "source": [
    "# Walking through \n",
    "x = os.walk('..')"
   ]
  },
  {
   "cell_type": "code",
   "execution_count": 13,
   "metadata": {},
   "outputs": [
    {
     "data": {
      "text/plain": [
       "[('..',\n",
       "  ['Day1', 'Day2'],\n",
       "  ['Day1.zip',\n",
       "   'Day2.zip',\n",
       "   'python_101.epub',\n",
       "   'python_101.mobi',\n",
       "   'python_101.pdf']),\n",
       " ('..\\\\Day1',\n",
       "  ['.ipynb_checkpoints'],\n",
       "  ['.Rhistory',\n",
       "   'Basic_data_types_EXERCISES.ipynb',\n",
       "   'Basic_data_types_EXERCISES2.ipynb',\n",
       "   'Basic_data_types_NOTEBOOK.ipynb',\n",
       "   'Basic_data_types_SOLUTIONS1.ipynb',\n",
       "   'Basic_data_types_SOLUTIONS2.ipynb',\n",
       "   'Control_statements,files_EXERCISES.ipynb',\n",
       "   'Control_statements,files_NOTEBOOK.ipynb',\n",
       "   'Control_statements,files_SOLUTIONS.ipynb',\n",
       "   'file1.txt',\n",
       "   'file2.txt',\n",
       "   'file3.txt',\n",
       "   'Functions_EXERCISES.ipynb',\n",
       "   'Functions_NOTEBOOK.ipynb',\n",
       "   'Functions_SOLUTIONS.ipynb',\n",
       "   'my_amazing_file',\n",
       "   'my_amazing_file2',\n",
       "   'new.py',\n",
       "   'notes.ipynb',\n",
       "   'out_file.fasta',\n",
       "   'rab20.fasta',\n",
       "   'Working_with_files,string_formating_EXERCISES.ipynb',\n",
       "   'Working_with_files,string_formating_NOTEBOOK.ipynb',\n",
       "   'Working_with_files,string_formating_SOLUTIONS.ipynb']),\n",
       " ('..\\\\Day1\\\\.ipynb_checkpoints',\n",
       "  [],\n",
       "  ['Basic_data_types_exercises-checkpoint (Case Conflict).ipynb',\n",
       "   'Basic_data_types_EXERCISES-checkpoint.ipynb',\n",
       "   'Basic_data_types_exercises1-checkpoint (Case Conflict (1)).ipynb',\n",
       "   'Basic_data_types_exercises1-checkpoint (Case Conflict (10)).ipynb',\n",
       "   'Basic_data_types_exercises1-checkpoint (Case Conflict (11)).ipynb',\n",
       "   'Basic_data_types_exercises1-checkpoint (Case Conflict (12)).ipynb',\n",
       "   'Basic_data_types_exercises1-checkpoint (Case Conflict (13)).ipynb',\n",
       "   'Basic_data_types_exercises1-checkpoint (Case Conflict (14)).ipynb',\n",
       "   'Basic_data_types_exercises1-checkpoint (Case Conflict (15)).ipynb',\n",
       "   'Basic_data_types_exercises1-checkpoint (Case Conflict (16)).ipynb',\n",
       "   'Basic_data_types_exercises1-checkpoint (Case Conflict (17)).ipynb',\n",
       "   'Basic_data_types_exercises1-checkpoint (Case Conflict (18)).ipynb',\n",
       "   'Basic_data_types_exercises1-checkpoint (Case Conflict (19)).ipynb',\n",
       "   'Basic_data_types_exercises1-checkpoint (Case Conflict (2)).ipynb',\n",
       "   'Basic_data_types_exercises1-checkpoint (Case Conflict (20)).ipynb',\n",
       "   'Basic_data_types_exercises1-checkpoint (Case Conflict (21)).ipynb',\n",
       "   'Basic_data_types_exercises1-checkpoint (Case Conflict (22)).ipynb',\n",
       "   'Basic_data_types_exercises1-checkpoint (Case Conflict (23)).ipynb',\n",
       "   'Basic_data_types_exercises1-checkpoint (Case Conflict (24)).ipynb',\n",
       "   'Basic_data_types_exercises1-checkpoint (Case Conflict (25)).ipynb',\n",
       "   'Basic_data_types_exercises1-checkpoint (Case Conflict (26)).ipynb',\n",
       "   'Basic_data_types_exercises1-checkpoint (Case Conflict (27)).ipynb',\n",
       "   'Basic_data_types_exercises1-checkpoint (Case Conflict (28)).ipynb',\n",
       "   'Basic_data_types_exercises1-checkpoint (Case Conflict (29)).ipynb',\n",
       "   'Basic_data_types_exercises1-checkpoint (Case Conflict (3)).ipynb',\n",
       "   'Basic_data_types_exercises1-checkpoint (Case Conflict (30)).ipynb',\n",
       "   'Basic_data_types_exercises1-checkpoint (Case Conflict (31)).ipynb',\n",
       "   'Basic_data_types_exercises1-checkpoint (Case Conflict (32)).ipynb',\n",
       "   'Basic_data_types_exercises1-checkpoint (Case Conflict (4)).ipynb',\n",
       "   'Basic_data_types_exercises1-checkpoint (Case Conflict (5)).ipynb',\n",
       "   'Basic_data_types_exercises1-checkpoint (Case Conflict (6)).ipynb',\n",
       "   'Basic_data_types_exercises1-checkpoint (Case Conflict (7)).ipynb',\n",
       "   'Basic_data_types_exercises1-checkpoint (Case Conflict (8)).ipynb',\n",
       "   'Basic_data_types_exercises1-checkpoint (Case Conflict (9)).ipynb',\n",
       "   'Basic_data_types_exercises1-checkpoint (Case Conflict).ipynb',\n",
       "   'Basic_data_types_exercises1-checkpoint.ipynb',\n",
       "   'Basic_data_types_exercises2-checkpoint (Case Conflict (1)).ipynb',\n",
       "   'Basic_data_types_exercises2-checkpoint (Case Conflict (2)).ipynb',\n",
       "   'Basic_data_types_exercises2-checkpoint (Case Conflict).ipynb',\n",
       "   'Basic_data_types_exercises2-checkpoint.ipynb',\n",
       "   'Basic_data_types_NOTEBOOK-checkpoint.ipynb',\n",
       "   'Basic_data_types_SOLUTIONS1-checkpoint.ipynb',\n",
       "   'Basic_data_types_SOLUTIONS2-checkpoint.ipynb',\n",
       "   'Control_statements,files_EXERCISES-checkpoint.ipynb',\n",
       "   'Control_statements,files_EXERCISES1-checkpoint.ipynb',\n",
       "   'Control_statements,files_NOTEBOOK-checkpoint.ipynb',\n",
       "   'Control_statements,files_SOLUTIONS-checkpoint.ipynb',\n",
       "   'Day1-checkpoint.ipynb',\n",
       "   'Day1_presentation-checkpoint.ipynb',\n",
       "   'file1-checkpoint.fasta',\n",
       "   'file1-checkpoint.txt',\n",
       "   'file2-checkpoint.txt',\n",
       "   'file3-checkpoint.txt',\n",
       "   'Functions,Exceptions_NOTEBOOK-checkpoint.ipynb',\n",
       "   'Functions_EXERCISES-checkpoint.ipynb',\n",
       "   'Functions_NOTEBOOK-checkpoint.ipynb',\n",
       "   'Functions_SOLUTIONS-checkpoint.ipynb',\n",
       "   'my_amazing_file-checkpoint',\n",
       "   'my_notes-checkpoint.ipynb',\n",
       "   'notes-checkpoint.ipynb',\n",
       "   'rab20-checkpoint.fasta',\n",
       "   'test-checkpoint.ipynb',\n",
       "   'Untitled1-checkpoint.ipynb',\n",
       "   'Untitled2-checkpoint.ipynb',\n",
       "   'Untitled3-checkpoint.ipynb',\n",
       "   'Working_with_files,string_formating_EXERCISES-checkpoint.ipynb',\n",
       "   'Working_with_files,string_formating_NOTEBOOK-checkpoint.ipynb',\n",
       "   'Working_with_files,string_formating_SOLUTIONS-checkpoint.ipynb']),\n",
       " ('..\\\\Day2',\n",
       "  ['.ipynb_checkpoints'],\n",
       "  ['Biopython-SeqIO_EXERCISES.ipynb',\n",
       "   'Biopython-SeqIO_NOTEBOOK.ipynb',\n",
       "   'Biopython-SeqIO_SOLUTIONS.ipynb',\n",
       "   'Classes_EXERCISES.ipynb',\n",
       "   'Classes_NOTEBOOK.ipynb',\n",
       "   'Classes_SOLUTIONS.ipynb',\n",
       "   'Generators_comprehensions_NOTEBOOK.ipynb',\n",
       "   'Import,std_library_EXERCISES.ipynb',\n",
       "   'Import,std_library_NOTEBOOK.ipynb',\n",
       "   'Import,std_library_SOLUTIONS.ipynb',\n",
       "   'longer_than_230.fasta',\n",
       "   'one_seq_nucl.fasta',\n",
       "   'one_seq_prot.fasta',\n",
       "   'rab20.fasta',\n",
       "   'rab20_ncbi.fasta',\n",
       "   'rab24.nt.fasta',\n",
       "   'result_names',\n",
       "   'result_names.txt',\n",
       "   'test_out.fasta']),\n",
       " ('..\\\\Day2\\\\.ipynb_checkpoints',\n",
       "  [],\n",
       "  ['Biopython-SeqIO_EXERCISES-checkpoint.ipynb',\n",
       "   'Biopython-SeqIO_NOTEBOOK-checkpoint.ipynb',\n",
       "   'Biopython-SeqIO_SOLUTIONS-checkpoint.ipynb',\n",
       "   'Classes_EXERCISES-checkpoint.ipynb',\n",
       "   'Classes_SOLUTIONS-checkpoint.ipynb',\n",
       "   'Functions_EXERCISES-checkpoint.ipynb',\n",
       "   'Functions_NOTEBOOK-checkpoint.ipynb',\n",
       "   'Functions_SOLUTIONS-checkpoint.ipynb',\n",
       "   'Generators_comprehensions_NOTEBOOK-checkpoint.ipynb',\n",
       "   'Import,std_library_EXERCISES-checkpoint.ipynb',\n",
       "   'Import,std_library_NOTEBOOK-checkpoint.ipynb',\n",
       "   'longer_than_230-checkpoint.fasta',\n",
       "   'one_seq_nucl-checkpoint.fasta',\n",
       "   'rab20_ncbi-checkpoint.fasta',\n",
       "   'result_names-checkpoint',\n",
       "   'result_names-checkpoint.txt',\n",
       "   'test_out-checkpoint.fasta'])]"
      ]
     },
     "execution_count": 13,
     "metadata": {},
     "output_type": "execute_result"
    }
   ],
   "source": [
    "list(x)"
   ]
  },
  {
   "cell_type": "code",
   "execution_count": 14,
   "metadata": {},
   "outputs": [
    {
     "data": {
      "text/plain": [
       "False"
      ]
     },
     "execution_count": 14,
     "metadata": {},
     "output_type": "execute_result"
    }
   ],
   "source": [
    "os.path.exists('test_module.py')"
   ]
  },
  {
   "cell_type": "code",
   "execution_count": 15,
   "metadata": {},
   "outputs": [
    {
     "data": {
      "text/plain": [
       "False"
      ]
     },
     "execution_count": 15,
     "metadata": {},
     "output_type": "execute_result"
    }
   ],
   "source": [
    "os.path.isdir('test_module.py')"
   ]
  },
  {
   "cell_type": "code",
   "execution_count": 16,
   "metadata": {},
   "outputs": [
    {
     "data": {
      "text/plain": [
       "False"
      ]
     },
     "execution_count": 16,
     "metadata": {},
     "output_type": "execute_result"
    }
   ],
   "source": [
    "os.path.isfile('test_module.py')"
   ]
  },
  {
   "cell_type": "markdown",
   "metadata": {},
   "source": [
    "## glob"
   ]
  },
  {
   "cell_type": "markdown",
   "metadata": {},
   "source": [
    "* allows using wildcards"
   ]
  },
  {
   "cell_type": "code",
   "execution_count": 17,
   "metadata": {},
   "outputs": [
    {
     "data": {
      "text/plain": [
       "['Biopython-SeqIO_EXERCISES.ipynb',\n",
       " 'Biopython-SeqIO_NOTEBOOK.ipynb',\n",
       " 'Biopython-SeqIO_SOLUTIONS.ipynb',\n",
       " 'Classes_EXERCISES.ipynb',\n",
       " 'Classes_NOTEBOOK.ipynb',\n",
       " 'Classes_SOLUTIONS.ipynb',\n",
       " 'Generators_comprehensions_NOTEBOOK.ipynb',\n",
       " 'Import,std_library_EXERCISES.ipynb',\n",
       " 'Import,std_library_NOTEBOOK.ipynb',\n",
       " 'Import,std_library_SOLUTIONS.ipynb']"
      ]
     },
     "execution_count": 17,
     "metadata": {},
     "output_type": "execute_result"
    }
   ],
   "source": [
    "import glob\n",
    "glob.glob('*.ipynb')"
   ]
  },
  {
   "cell_type": "code",
   "execution_count": 20,
   "metadata": {},
   "outputs": [
    {
     "ename": "SyntaxError",
     "evalue": "unexpected EOF while parsing (<ipython-input-20-c60b460983ad>, line 6)",
     "output_type": "error",
     "traceback": [
      "\u001b[1;36m  File \u001b[1;32m\"<ipython-input-20-c60b460983ad>\"\u001b[1;36m, line \u001b[1;32m6\u001b[0m\n\u001b[1;33m    # continues...\u001b[0m\n\u001b[1;37m                  ^\u001b[0m\n\u001b[1;31mSyntaxError\u001b[0m\u001b[1;31m:\u001b[0m unexpected EOF while parsing\n"
     ]
    }
   ],
   "source": [
    "def seq_count(file):\n",
    "    sequences = list(SeqIo.parse(file, 'fasta'))\n",
    "    return len(sequences)\n",
    "\n",
    "for file in glob.glob('*fasta'):\n",
    "# continues..."
   ]
  },
  {
   "cell_type": "markdown",
   "metadata": {},
   "source": [
    "## the subprocess module"
   ]
  },
  {
   "cell_type": "markdown",
   "metadata": {},
   "source": [
    "* this is a way how to run other commands as subprocesses"
   ]
  },
  {
   "cell_type": "code",
   "execution_count": 21,
   "metadata": {},
   "outputs": [],
   "source": [
    "import subprocess"
   ]
  },
  {
   "cell_type": "code",
   "execution_count": 27,
   "metadata": {},
   "outputs": [
    {
     "name": "stdout",
     "output_type": "stream",
     "text": [
      "done\n"
     ]
    }
   ],
   "source": [
    "# runs an idle program in a new window... it is running bash commands, so also for exampe mstsc.exe\n",
    "# prefered over os.system\n",
    "subprocess.call('idle')\n",
    "print('done')"
   ]
  },
  {
   "cell_type": "code",
   "execution_count": 28,
   "metadata": {},
   "outputs": [],
   "source": [
    "# subprocess.run(cmd, shell=True, stdout=subprocess.DEVNULL, stderr=subprocess.DEVNULL)"
   ]
  },
  {
   "cell_type": "code",
   "execution_count": 24,
   "metadata": {},
   "outputs": [
    {
     "ename": "FileNotFoundError",
     "evalue": "[WinError 2] The system cannot find the file specified",
     "output_type": "error",
     "traceback": [
      "\u001b[1;31m---------------------------------------------------------------------------\u001b[0m",
      "\u001b[1;31mFileNotFoundError\u001b[0m                         Traceback (most recent call last)",
      "\u001b[1;32m<ipython-input-24-5ff48ad02ca5>\u001b[0m in \u001b[0;36m<module>\u001b[1;34m\u001b[0m\n\u001b[1;32m----> 1\u001b[1;33m \u001b[0msubprocess\u001b[0m\u001b[1;33m.\u001b[0m\u001b[0mPopen\u001b[0m\u001b[1;33m(\u001b[0m\u001b[1;34m'idle3'\u001b[0m\u001b[1;33m)\u001b[0m\u001b[1;33m\u001b[0m\u001b[1;33m\u001b[0m\u001b[0m\n\u001b[0m\u001b[0;32m      2\u001b[0m \u001b[0mprint\u001b[0m\u001b[1;33m(\u001b[0m\u001b[1;34m'done'\u001b[0m\u001b[1;33m)\u001b[0m\u001b[1;33m\u001b[0m\u001b[1;33m\u001b[0m\u001b[0m\n",
      "\u001b[1;32m~\\Anaconda3\\lib\\subprocess.py\u001b[0m in \u001b[0;36m__init__\u001b[1;34m(self, args, bufsize, executable, stdin, stdout, stderr, preexec_fn, close_fds, shell, cwd, env, universal_newlines, startupinfo, creationflags, restore_signals, start_new_session, pass_fds, encoding, errors, text)\u001b[0m\n\u001b[0;32m    773\u001b[0m                                 \u001b[0mc2pread\u001b[0m\u001b[1;33m,\u001b[0m \u001b[0mc2pwrite\u001b[0m\u001b[1;33m,\u001b[0m\u001b[1;33m\u001b[0m\u001b[1;33m\u001b[0m\u001b[0m\n\u001b[0;32m    774\u001b[0m                                 \u001b[0merrread\u001b[0m\u001b[1;33m,\u001b[0m \u001b[0merrwrite\u001b[0m\u001b[1;33m,\u001b[0m\u001b[1;33m\u001b[0m\u001b[1;33m\u001b[0m\u001b[0m\n\u001b[1;32m--> 775\u001b[1;33m                                 restore_signals, start_new_session)\n\u001b[0m\u001b[0;32m    776\u001b[0m         \u001b[1;32mexcept\u001b[0m\u001b[1;33m:\u001b[0m\u001b[1;33m\u001b[0m\u001b[1;33m\u001b[0m\u001b[0m\n\u001b[0;32m    777\u001b[0m             \u001b[1;31m# Cleanup if the child failed starting.\u001b[0m\u001b[1;33m\u001b[0m\u001b[1;33m\u001b[0m\u001b[1;33m\u001b[0m\u001b[0m\n",
      "\u001b[1;32m~\\Anaconda3\\lib\\subprocess.py\u001b[0m in \u001b[0;36m_execute_child\u001b[1;34m(self, args, executable, preexec_fn, close_fds, pass_fds, cwd, env, startupinfo, creationflags, shell, p2cread, p2cwrite, c2pread, c2pwrite, errread, errwrite, unused_restore_signals, unused_start_new_session)\u001b[0m\n\u001b[0;32m   1176\u001b[0m                                          \u001b[0menv\u001b[0m\u001b[1;33m,\u001b[0m\u001b[1;33m\u001b[0m\u001b[1;33m\u001b[0m\u001b[0m\n\u001b[0;32m   1177\u001b[0m                                          \u001b[0mos\u001b[0m\u001b[1;33m.\u001b[0m\u001b[0mfspath\u001b[0m\u001b[1;33m(\u001b[0m\u001b[0mcwd\u001b[0m\u001b[1;33m)\u001b[0m \u001b[1;32mif\u001b[0m \u001b[0mcwd\u001b[0m \u001b[1;32mis\u001b[0m \u001b[1;32mnot\u001b[0m \u001b[1;32mNone\u001b[0m \u001b[1;32melse\u001b[0m \u001b[1;32mNone\u001b[0m\u001b[1;33m,\u001b[0m\u001b[1;33m\u001b[0m\u001b[1;33m\u001b[0m\u001b[0m\n\u001b[1;32m-> 1178\u001b[1;33m                                          startupinfo)\n\u001b[0m\u001b[0;32m   1179\u001b[0m             \u001b[1;32mfinally\u001b[0m\u001b[1;33m:\u001b[0m\u001b[1;33m\u001b[0m\u001b[1;33m\u001b[0m\u001b[0m\n\u001b[0;32m   1180\u001b[0m                 \u001b[1;31m# Child is launched. Close the parent's copy of those pipe\u001b[0m\u001b[1;33m\u001b[0m\u001b[1;33m\u001b[0m\u001b[1;33m\u001b[0m\u001b[0m\n",
      "\u001b[1;31mFileNotFoundError\u001b[0m: [WinError 2] The system cannot find the file specified"
     ]
    }
   ],
   "source": [
    "subprocess.Popen('idle3')\n",
    "print('done')"
   ]
  },
  {
   "cell_type": "markdown",
   "metadata": {},
   "source": [
    "# the sys module"
   ]
  },
  {
   "cell_type": "markdown",
   "metadata": {},
   "source": [
    "* check the real_script.py with the example how to use it and try to run this script from the console"
   ]
  },
  {
   "cell_type": "code",
   "execution_count": 2,
   "metadata": {
    "collapsed": true,
    "jupyter": {
     "outputs_hidden": true
    }
   },
   "outputs": [],
   "source": [
    "import sys"
   ]
  },
  {
   "cell_type": "code",
   "execution_count": 3,
   "metadata": {
    "collapsed": true,
    "jupyter": {
     "outputs_hidden": true
    }
   },
   "outputs": [
    {
     "data": {
      "text/plain": [
       "['C:\\\\Users\\\\Anna\\\\Anaconda3\\\\lib\\\\site-packages\\\\ipykernel_launcher.py',\n",
       " '-f',\n",
       " 'C:\\\\Users\\\\Anna\\\\AppData\\\\Roaming\\\\jupyter\\\\runtime\\\\kernel-cbc652cf-2392-481d-ac58-7689f0be0b34.json']"
      ]
     },
     "execution_count": 3,
     "metadata": {},
     "output_type": "execute_result"
    }
   ],
   "source": [
    "# alternative of bash $0 $1 etc.\n",
    "sys.argv"
   ]
  },
  {
   "cell_type": "code",
   "execution_count": null,
   "metadata": {},
   "outputs": [],
   "source": [
    "sys.executable"
   ]
  },
  {
   "cell_type": "code",
   "execution_count": null,
   "metadata": {},
   "outputs": [],
   "source": [
    "sys.path"
   ]
  },
  {
   "cell_type": "code",
   "execution_count": 5,
   "metadata": {},
   "outputs": [
    {
     "ename": "SyntaxError",
     "evalue": "invalid syntax (<ipython-input-5-147a774eb23f>, line 2)",
     "output_type": "error",
     "traceback": [
      "\u001b[1;36m  File \u001b[1;32m\"<ipython-input-5-147a774eb23f>\"\u001b[1;36m, line \u001b[1;32m2\u001b[0m\n\u001b[1;33m    for i in $(ls *.fasta); do python sys_read_fasta.py $i; done\u001b[0m\n\u001b[1;37m             ^\u001b[0m\n\u001b[1;31mSyntaxError\u001b[0m\u001b[1;31m:\u001b[0m invalid syntax\n"
     ]
    }
   ],
   "source": [
    "# check the file sys_read_fasta.py and combine it with unix terminal eg. with this command\n",
    "# for i in $(ls *.fasta); do python sys_read_fasta.py $i; done"
   ]
  },
  {
   "cell_type": "markdown",
   "metadata": {},
   "source": [
    "# collections "
   ]
  },
  {
   "cell_type": "code",
   "execution_count": null,
   "metadata": {},
   "outputs": [],
   "source": [
    "from collections import Counter\n",
    "\n",
    "x = [\"DNA\", \"DNA\", \"DNA\", \"protein\", \"protein\", \"RNA\"]\n",
    "\n",
    "print(Counter(x))"
   ]
  },
  {
   "cell_type": "code",
   "execution_count": null,
   "metadata": {},
   "outputs": [],
   "source": [
    "from collections import defaultdict\n",
    "\n",
    "my_dict = defaultdict(list)\n",
    "\n",
    "my_dict[\"XP54545\"].append(10)\n",
    "my_dict[\"XP54545\"].append(15)\n",
    "\n",
    "my_dict[\"XP54545\"]"
   ]
  },
  {
   "cell_type": "markdown",
   "metadata": {},
   "source": [
    "# Our own modules and package ..."
   ]
  },
  {
   "cell_type": "markdown",
   "metadata": {},
   "source": [
    "Modules:"
   ]
  },
  {
   "cell_type": "code",
   "execution_count": 31,
   "metadata": {},
   "outputs": [
    {
     "ename": "ModuleNotFoundError",
     "evalue": "No module named 'my_module'",
     "output_type": "error",
     "traceback": [
      "\u001b[1;31m---------------------------------------------------------------------------\u001b[0m",
      "\u001b[1;31mModuleNotFoundError\u001b[0m                       Traceback (most recent call last)",
      "\u001b[1;32m<ipython-input-31-5e0097267d23>\u001b[0m in \u001b[0;36m<module>\u001b[1;34m\u001b[0m\n\u001b[0;32m      1\u001b[0m \u001b[1;31m# from my_module import tired\u001b[0m\u001b[1;33m\u001b[0m\u001b[1;33m\u001b[0m\u001b[1;33m\u001b[0m\u001b[0m\n\u001b[1;32m----> 2\u001b[1;33m \u001b[1;32mimport\u001b[0m \u001b[0mmy_module\u001b[0m\u001b[1;33m\u001b[0m\u001b[1;33m\u001b[0m\u001b[0m\n\u001b[0m",
      "\u001b[1;31mModuleNotFoundError\u001b[0m: No module named 'my_module'"
     ]
    }
   ],
   "source": [
    "# from my_module import tired\n",
    "import my_module"
   ]
  },
  {
   "cell_type": "code",
   "execution_count": null,
   "metadata": {},
   "outputs": [],
   "source": [
    "# or import as some \n",
    "import my_module as mm"
   ]
  },
  {
   "cell_type": "code",
   "execution_count": 36,
   "metadata": {},
   "outputs": [
    {
     "ename": "ModuleNotFoundError",
     "evalue": "No module named 'my_module'",
     "output_type": "error",
     "traceback": [
      "\u001b[1;31m---------------------------------------------------------------------------\u001b[0m",
      "\u001b[1;31mModuleNotFoundError\u001b[0m                       Traceback (most recent call last)",
      "\u001b[1;32m<ipython-input-36-1efab92319ef>\u001b[0m in \u001b[0;36m<module>\u001b[1;34m\u001b[0m\n\u001b[0;32m      1\u001b[0m \u001b[1;31m# or import just a part of the module\u001b[0m\u001b[1;33m\u001b[0m\u001b[1;33m\u001b[0m\u001b[1;33m\u001b[0m\u001b[0m\n\u001b[1;32m----> 2\u001b[1;33m \u001b[1;32mfrom\u001b[0m \u001b[0mmy_module\u001b[0m \u001b[1;32mimport\u001b[0m \u001b[0mtired\u001b[0m\u001b[1;33m\u001b[0m\u001b[1;33m\u001b[0m\u001b[0m\n\u001b[0m",
      "\u001b[1;31mModuleNotFoundError\u001b[0m: No module named 'my_module'"
     ]
    }
   ],
   "source": [
    "# or import just a part of the module\n",
    "from my_module import tired"
   ]
  },
  {
   "cell_type": "code",
   "execution_count": 34,
   "metadata": {},
   "outputs": [
    {
     "ename": "NameError",
     "evalue": "name 'my_module' is not defined",
     "output_type": "error",
     "traceback": [
      "\u001b[1;31m---------------------------------------------------------------------------\u001b[0m",
      "\u001b[1;31mNameError\u001b[0m                                 Traceback (most recent call last)",
      "\u001b[1;32m<ipython-input-34-aaeaf1a16ef8>\u001b[0m in \u001b[0;36m<module>\u001b[1;34m\u001b[0m\n\u001b[0;32m      1\u001b[0m \u001b[1;33m\u001b[0m\u001b[0m\n\u001b[1;32m----> 2\u001b[1;33m \u001b[0mmy_module\u001b[0m\u001b[1;33m.\u001b[0m\u001b[0mtired\u001b[0m\u001b[1;33m(\u001b[0m\u001b[1;33m)\u001b[0m\u001b[1;33m\u001b[0m\u001b[1;33m\u001b[0m\u001b[0m\n\u001b[0m",
      "\u001b[1;31mNameError\u001b[0m: name 'my_module' is not defined"
     ]
    }
   ],
   "source": [
    "my_module.tired()"
   ]
  },
  {
   "cell_type": "code",
   "execution_count": null,
   "metadata": {},
   "outputs": [],
   "source": []
  },
  {
   "cell_type": "markdown",
   "metadata": {},
   "source": [
    "Package is nothing else than folder with some scripts inside... \n",
    "\n",
    "You just need to say to python that it is not a folder but a package... you do iby putting isnide a file called  __ init __"
   ]
  },
  {
   "cell_type": "code",
   "execution_count": 38,
   "metadata": {},
   "outputs": [
    {
     "ename": "ModuleNotFoundError",
     "evalue": "No module named 'my_pack'",
     "output_type": "error",
     "traceback": [
      "\u001b[1;31m---------------------------------------------------------------------------\u001b[0m",
      "\u001b[1;31mModuleNotFoundError\u001b[0m                       Traceback (most recent call last)",
      "\u001b[1;32m<ipython-input-38-a87247d915b4>\u001b[0m in \u001b[0;36m<module>\u001b[1;34m\u001b[0m\n\u001b[1;32m----> 1\u001b[1;33m \u001b[1;32mfrom\u001b[0m \u001b[0mmy_pack\u001b[0m \u001b[1;32mimport\u001b[0m \u001b[0mmy_module\u001b[0m\u001b[1;33m\u001b[0m\u001b[1;33m\u001b[0m\u001b[0m\n\u001b[0m",
      "\u001b[1;31mModuleNotFoundError\u001b[0m: No module named 'my_pack'"
     ]
    }
   ],
   "source": [
    "from my_pack import my_module"
   ]
  },
  {
   "cell_type": "code",
   "execution_count": 39,
   "metadata": {},
   "outputs": [
    {
     "ename": "ModuleNotFoundError",
     "evalue": "No module named 'my_pack'",
     "output_type": "error",
     "traceback": [
      "\u001b[1;31m---------------------------------------------------------------------------\u001b[0m",
      "\u001b[1;31mModuleNotFoundError\u001b[0m                       Traceback (most recent call last)",
      "\u001b[1;32m<ipython-input-39-54802242d2d2>\u001b[0m in \u001b[0;36m<module>\u001b[1;34m\u001b[0m\n\u001b[1;32m----> 1\u001b[1;33m \u001b[1;32mfrom\u001b[0m \u001b[0mmy_pack\u001b[0m\u001b[1;33m.\u001b[0m\u001b[0mmy_module\u001b[0m \u001b[1;32mimport\u001b[0m \u001b[0mtired\u001b[0m\u001b[1;33m\u001b[0m\u001b[1;33m\u001b[0m\u001b[0m\n\u001b[0m",
      "\u001b[1;31mModuleNotFoundError\u001b[0m: No module named 'my_pack'"
     ]
    }
   ],
   "source": [
    "from my_pack.my_module import tired"
   ]
  },
  {
   "cell_type": "code",
   "execution_count": 40,
   "metadata": {},
   "outputs": [
    {
     "ename": "NameError",
     "evalue": "name 'tired' is not defined",
     "output_type": "error",
     "traceback": [
      "\u001b[1;31m---------------------------------------------------------------------------\u001b[0m",
      "\u001b[1;31mNameError\u001b[0m                                 Traceback (most recent call last)",
      "\u001b[1;32m<ipython-input-40-00c342ca9283>\u001b[0m in \u001b[0;36m<module>\u001b[1;34m\u001b[0m\n\u001b[1;32m----> 1\u001b[1;33m \u001b[0mtired\u001b[0m\u001b[1;33m(\u001b[0m\u001b[1;33m)\u001b[0m\u001b[1;33m\u001b[0m\u001b[1;33m\u001b[0m\u001b[0m\n\u001b[0m",
      "\u001b[1;31mNameError\u001b[0m: name 'tired' is not defined"
     ]
    }
   ],
   "source": [
    "tired()"
   ]
  }
 ],
 "metadata": {
  "kernelspec": {
   "display_name": "Python 3",
   "language": "python",
   "name": "python3"
  },
  "language_info": {
   "codemirror_mode": {
    "name": "ipython",
    "version": 3
   },
   "file_extension": ".py",
   "mimetype": "text/x-python",
   "name": "python",
   "nbconvert_exporter": "python",
   "pygments_lexer": "ipython3",
   "version": "3.7.3"
  }
 },
 "nbformat": 4,
 "nbformat_minor": 4
}
