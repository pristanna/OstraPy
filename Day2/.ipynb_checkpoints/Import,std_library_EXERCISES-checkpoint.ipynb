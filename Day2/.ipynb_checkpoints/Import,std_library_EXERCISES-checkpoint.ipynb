{
 "cells": [
  {
   "cell_type": "markdown",
   "metadata": {},
   "source": [
    "**1: List all file names in this folder and print only those with contains \".ipynb\"**"
   ]
  },
  {
   "cell_type": "code",
   "execution_count": 2,
   "metadata": {},
   "outputs": [
    {
     "data": {
      "text/plain": [
       "['.ipynb_checkpoints',\n",
       " 'Biopython-SeqIO_EXERCISES.ipynb',\n",
       " 'Biopython-SeqIO_NOTEBOOK.ipynb',\n",
       " 'Biopython-SeqIO_SOLUTIONS.ipynb',\n",
       " 'Classes_EXERCISES.ipynb',\n",
       " 'Classes_NOTEBOOK.ipynb',\n",
       " 'Classes_SOLUTIONS.ipynb',\n",
       " 'Generators_comprehensions_NOTEBOOK.ipynb',\n",
       " 'Import,std_library_EXERCISES.ipynb',\n",
       " 'Import,std_library_NOTEBOOK.ipynb',\n",
       " 'Import,std_library_SOLUTIONS.ipynb',\n",
       " 'longer_than_230.fasta',\n",
       " 'my_bio.ipynb',\n",
       " 'my_bio.py',\n",
       " 'one_seq_nucl.fasta',\n",
       " 'one_seq_prot.fasta',\n",
       " 'rab20.fasta',\n",
       " 'rab20_ncbi.fasta',\n",
       " 'rab24.nt.fasta',\n",
       " 'real_script.py',\n",
       " 'result',\n",
       " 'result.txt',\n",
       " 'result_directory',\n",
       " 'result_names',\n",
       " 'result_names.txt',\n",
       " 'sys_read_fasta.py',\n",
       " 'take_data.txt',\n",
       " 'test_out.fasta',\n",
       " 'Untitled.ipynb',\n",
       " 'untitled.txt',\n",
       " 'untitled1.txt',\n",
       " 'untitled2.txt',\n",
       " 'untitled3.txt',\n",
       " '__pycache__']"
      ]
     },
     "execution_count": 2,
     "metadata": {},
     "output_type": "execute_result"
    }
   ],
   "source": [
    "import os\n",
    "import glob\n",
    "\n",
    "os.listdir()"
   ]
  },
  {
   "cell_type": "code",
   "execution_count": 9,
   "metadata": {},
   "outputs": [
    {
     "data": {
      "text/plain": [
       "['Biopython-SeqIO_EXERCISES.ipynb',\n",
       " 'Biopython-SeqIO_NOTEBOOK.ipynb',\n",
       " 'Biopython-SeqIO_SOLUTIONS.ipynb',\n",
       " 'Classes_EXERCISES.ipynb',\n",
       " 'Classes_NOTEBOOK.ipynb',\n",
       " 'Classes_SOLUTIONS.ipynb',\n",
       " 'Generators_comprehensions_NOTEBOOK.ipynb',\n",
       " 'Import,std_library_EXERCISES.ipynb',\n",
       " 'Import,std_library_NOTEBOOK.ipynb',\n",
       " 'Import,std_library_SOLUTIONS.ipynb']"
      ]
     },
     "execution_count": 9,
     "metadata": {},
     "output_type": "execute_result"
    }
   ],
   "source": [
    "glob.glob('*.ipynb')"
   ]
  },
  {
   "cell_type": "markdown",
   "metadata": {},
   "source": [
    "**2: Modify the code from exercise 1 so output will not be printed but written into a file name \"result\".**"
   ]
  },
  {
   "cell_type": "code",
   "execution_count": 3,
   "metadata": {},
   "outputs": [],
   "source": [
    "with open(\"result\", 'w') as file_out:\n",
    "    file_out.write(str(glob.glob('*.ipynb')))"
   ]
  },
  {
   "cell_type": "markdown",
   "metadata": {},
   "source": [
    "**3: Rename file \"result\" to \"result.txt\"**"
   ]
  },
  {
   "cell_type": "code",
   "execution_count": 4,
   "metadata": {},
   "outputs": [
    {
     "ename": "FileExistsError",
     "evalue": "[WinError 183] Cannot create a file when that file already exists: 'result' -> 'result.txt'",
     "output_type": "error",
     "traceback": [
      "\u001b[1;31m---------------------------------------------------------------------------\u001b[0m",
      "\u001b[1;31mFileExistsError\u001b[0m                           Traceback (most recent call last)",
      "\u001b[1;32m<ipython-input-4-6fdcf40b98cc>\u001b[0m in \u001b[0;36m<module>\u001b[1;34m\u001b[0m\n\u001b[1;32m----> 1\u001b[1;33m \u001b[0mos\u001b[0m\u001b[1;33m.\u001b[0m\u001b[0mrename\u001b[0m\u001b[1;33m(\u001b[0m\u001b[1;34m'result'\u001b[0m\u001b[1;33m,\u001b[0m \u001b[1;34m'result.txt'\u001b[0m\u001b[1;33m)\u001b[0m\u001b[1;33m\u001b[0m\u001b[1;33m\u001b[0m\u001b[0m\n\u001b[0m\u001b[0;32m      2\u001b[0m \u001b[1;33m\u001b[0m\u001b[0m\n\u001b[0;32m      3\u001b[0m \u001b[1;31m# os rename gives error when the file already exists\u001b[0m\u001b[1;33m\u001b[0m\u001b[1;33m\u001b[0m\u001b[1;33m\u001b[0m\u001b[0m\n",
      "\u001b[1;31mFileExistsError\u001b[0m: [WinError 183] Cannot create a file when that file already exists: 'result' -> 'result.txt'"
     ]
    }
   ],
   "source": [
    "os.rename('result', 'result.txt') \n",
    "\n",
    "# os rename gives error when the file already exists"
   ]
  },
  {
   "cell_type": "markdown",
   "metadata": {},
   "source": [
    "**4: Make directory \"result_directory\", move result.txt to that directory.**"
   ]
  },
  {
   "cell_type": "code",
   "execution_count": 5,
   "metadata": {},
   "outputs": [
    {
     "ename": "FileExistsError",
     "evalue": "[WinError 183] Cannot create a file when that file already exists: 'result_directory'",
     "output_type": "error",
     "traceback": [
      "\u001b[1;31m---------------------------------------------------------------------------\u001b[0m",
      "\u001b[1;31mFileExistsError\u001b[0m                           Traceback (most recent call last)",
      "\u001b[1;32m<ipython-input-5-6de1d66c6c79>\u001b[0m in \u001b[0;36m<module>\u001b[1;34m\u001b[0m\n\u001b[0;32m      1\u001b[0m \u001b[1;32mimport\u001b[0m \u001b[0mos\u001b[0m\u001b[1;33m\u001b[0m\u001b[1;33m\u001b[0m\u001b[0m\n\u001b[0;32m      2\u001b[0m \u001b[1;33m\u001b[0m\u001b[0m\n\u001b[1;32m----> 3\u001b[1;33m \u001b[0mos\u001b[0m\u001b[1;33m.\u001b[0m\u001b[0mmkdir\u001b[0m\u001b[1;33m(\u001b[0m\u001b[1;34m'result_directory'\u001b[0m\u001b[1;33m)\u001b[0m\u001b[1;33m\u001b[0m\u001b[1;33m\u001b[0m\u001b[0m\n\u001b[0m\u001b[0;32m      4\u001b[0m \u001b[0mos\u001b[0m\u001b[1;33m.\u001b[0m\u001b[0mmove\u001b[0m\u001b[1;33m(\u001b[0m\u001b[1;34m'result.txt'\u001b[0m\u001b[1;33m,\u001b[0m \u001b[1;34m'result_directory'\u001b[0m\u001b[1;33m)\u001b[0m\u001b[1;33m\u001b[0m\u001b[1;33m\u001b[0m\u001b[0m\n",
      "\u001b[1;31mFileExistsError\u001b[0m: [WinError 183] Cannot create a file when that file already exists: 'result_directory'"
     ]
    }
   ],
   "source": [
    "import os\n",
    "\n",
    "os.mkdir('result_directory')\n",
    "os.move('result.txt', 'result_directory')"
   ]
  },
  {
   "cell_type": "markdown",
   "metadata": {},
   "source": [
    "**5: Try to start idle(or spyder) with subprocess.call**"
   ]
  },
  {
   "cell_type": "code",
   "execution_count": null,
   "metadata": {},
   "outputs": [],
   "source": [
    "import subprocess\n",
    "\n",
    "subprocess.call('idle')\n",
    "print('done')"
   ]
  },
  {
   "cell_type": "markdown",
   "metadata": {},
   "source": [
    "**6: Try to use sys.argv to feed your program from terminal to print your name.**"
   ]
  },
  {
   "cell_type": "code",
   "execution_count": null,
   "metadata": {},
   "outputs": [],
   "source": [
    "# my_name.py"
   ]
  }
 ],
 "metadata": {
  "kernelspec": {
   "display_name": "Python 3",
   "language": "python",
   "name": "python3"
  },
  "language_info": {
   "codemirror_mode": {
    "name": "ipython",
    "version": 3
   },
   "file_extension": ".py",
   "mimetype": "text/x-python",
   "name": "python",
   "nbconvert_exporter": "python",
   "pygments_lexer": "ipython3",
   "version": "3.7.3"
  }
 },
 "nbformat": 4,
 "nbformat_minor": 4
}
