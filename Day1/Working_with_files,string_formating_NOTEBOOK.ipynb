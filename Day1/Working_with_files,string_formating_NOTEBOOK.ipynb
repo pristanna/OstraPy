{
 "cells": [
  {
   "cell_type": "markdown",
   "metadata": {},
   "source": [
    "## Working with files"
   ]
  },
  {
   "cell_type": "markdown",
   "metadata": {},
   "source": [
    "* There is no way to close file at the end...\n",
    "* Jupyter is autocompleting files which are in the current folder\n"
   ]
  },
  {
   "cell_type": "code",
   "execution_count": null,
   "metadata": {},
   "outputs": [],
   "source": [
    "infile = open(\"rab20.fasta\", \"r\")\n",
    "data = infile.read()\n",
    "print(data)\n",
    "#infile.close()\n"
   ]
  },
  {
   "cell_type": "code",
   "execution_count": null,
   "metadata": {},
   "outputs": [],
   "source": [
    "# dont know why the output is just of the last command\n",
    "type(data)\n",
    "type(infile)\n",
    "len(data)"
   ]
  },
  {
   "cell_type": "code",
   "execution_count": null,
   "metadata": {},
   "outputs": [],
   "source": [
    "type(data)"
   ]
  },
  {
   "cell_type": "code",
   "execution_count": null,
   "metadata": {},
   "outputs": [],
   "source": [
    "type(infile)"
   ]
  },
  {
   "cell_type": "code",
   "execution_count": null,
   "metadata": {},
   "outputs": [],
   "source": [
    "infile = open(\"rab20.fasta\", \"r\")\n",
    "data = infile.readline()\n",
    "print(data)\n",
    "infile.close()"
   ]
  },
  {
   "cell_type": "code",
   "execution_count": null,
   "metadata": {},
   "outputs": [],
   "source": [
    "infile = open(\"rab20.fasta\", \"r\")\n",
    "data = infile.readlines()\n",
    "print(data)\n",
    "infile.close()"
   ]
  },
  {
   "cell_type": "code",
   "execution_count": null,
   "metadata": {},
   "outputs": [],
   "source": [
    "infile = open(\"rab20.fasta\", \"r\")\n",
    "for line in infile:\n",
    "    print(line)\n",
    "infile.close()"
   ]
  },
  {
   "cell_type": "code",
   "execution_count": null,
   "metadata": {},
   "outputs": [],
   "source": [
    "infile = open(\"rab20.fasta\", \"r\")\n",
    "for line in infile:\n",
    "    if '>' in line:\n",
    "        print(line)"
   ]
  },
  {
   "cell_type": "code",
   "execution_count": null,
   "metadata": {},
   "outputs": [],
   "source": [
    "infile = open(\"rab20.fasta\", \"r\")\n",
    "for line in infile:\n",
    "    if line.startswith('>'):\n",
    "        print(line)"
   ]
  },
  {
   "cell_type": "markdown",
   "metadata": {},
   "source": [
    "Mistake 1"
   ]
  },
  {
   "cell_type": "code",
   "execution_count": null,
   "metadata": {},
   "outputs": [],
   "source": [
    "# mistake - when defining collection container in the loop, it will deliver empty container\n",
    "\n",
    "infile = open(\"rab20.fasta\", \"r\")\n",
    "for line in infile:\n",
    "    result = []\n",
    "    if '>' in line:\n",
    "        result.append(line)\n",
    "print(result)"
   ]
  },
  {
   "cell_type": "code",
   "execution_count": null,
   "metadata": {},
   "outputs": [],
   "source": [
    "# solution - define the container for collecing output out of the cycle\n",
    "\n",
    "infile = open(\"rab20.fasta\", \"r\")\n",
    "result = []\n",
    "for line in infile:\n",
    "    if '>' in line:\n",
    "        result.append(line)\n",
    "print(result)"
   ]
  },
  {
   "cell_type": "markdown",
   "metadata": {},
   "source": [
    "Mistake 2"
   ]
  },
  {
   "cell_type": "code",
   "execution_count": null,
   "metadata": {},
   "outputs": [],
   "source": [
    "infile = open(\"rab20.fasta\", \"r\")\n",
    "for line in infile:\n",
    "    print('loop1:', line)\n",
    "\n",
    "for line in infile:\n",
    "    print('loop2:',line)"
   ]
  },
  {
   "cell_type": "code",
   "execution_count": null,
   "metadata": {},
   "outputs": [],
   "source": [
    "# mistake - results just from the loop 1\n",
    "# we execute first loop and python is reading from first line to the end - the imaginary cursor is at the end of the file\n",
    "# so when the second loop is executed, python is at the end of file, so there are no other lines.... \n",
    "# we have to forse python to read from the start of the line\n",
    "\n",
    "infile = open(\"rab20.fasta\", \"r\")\n",
    "\n",
    "for line in infile:\n",
    "    if '>' in line:\n",
    "        print('loop1:', line)\n",
    "\n",
    "for line in infile:\n",
    "    if '>' in line:\n",
    "        print('loop2:',line)"
   ]
  },
  {
   "cell_type": "code",
   "execution_count": null,
   "metadata": {},
   "outputs": [],
   "source": [
    "# solution - which is not a good solution because you can forgot that you put it there... and ?\n",
    "\n",
    "infile = open(\"rab20.fasta\", \"r\")\n",
    "\n",
    "for line in infile:\n",
    "    if '>' in line:\n",
    "        print('loop1:', line)\n",
    "\n",
    "infile.seek(0)\n",
    "\n",
    "for line in infile:\n",
    "    if '>' in line:\n",
    "        print('loop2:',line)"
   ]
  },
  {
   "cell_type": "code",
   "execution_count": null,
   "metadata": {},
   "outputs": [],
   "source": [
    "# better solution is to open the file again every time when executing the loop - this is a protective solution\n",
    "\n",
    "for line in open(\"rab20.fasta\", \"r\"):\n",
    "    if '>' in line:\n",
    "        print('loop1:', line)\n",
    "\n",
    "for line in open(\"rab20.fasta\", \"r\"):\n",
    "    if '>' in line:\n",
    "        print('loop2:',line)"
   ]
  },
  {
   "cell_type": "markdown",
   "metadata": {},
   "source": [
    "### Write into files"
   ]
  },
  {
   "cell_type": "markdown",
   "metadata": {},
   "source": [
    "It is necessary always to close a file when you write into it\n",
    "\n",
    "a) older way - you need to close it at the end, if not, there is a problem"
   ]
  },
  {
   "cell_type": "code",
   "execution_count": null,
   "metadata": {},
   "outputs": [],
   "source": [
    "\n",
    "result = open ('my_amazing_file2', 'w')\n",
    "result.write('kind of')\n",
    "result.write('something')\n",
    "#result.close()"
   ]
  },
  {
   "cell_type": "markdown",
   "metadata": {},
   "source": [
    "b) newer, protective way\n",
    "\n",
    "* you can write to a file just strings!! No integers!\n",
    "* all the time when you read file, you read strings..."
   ]
  },
  {
   "cell_type": "code",
   "execution_count": null,
   "metadata": {},
   "outputs": [],
   "source": [
    "# just printing the result\n",
    "with open(\"rab20.fasta\") as my_file:\n",
    "    for line in my_file:\n",
    "        print(line)"
   ]
  },
  {
   "cell_type": "code",
   "execution_count": null,
   "metadata": {},
   "outputs": [],
   "source": [
    "with open(\"out_file.fasta\", 'w') as test_out:\n",
    "    test_out.write('blablabla blabla')"
   ]
  },
  {
   "cell_type": "code",
   "execution_count": null,
   "metadata": {},
   "outputs": [],
   "source": [
    "# append instead of write\n",
    "\n",
    "with open(\"out_file.fasta\", 'a') as test_out:\n",
    "    test_out.write('blablabla blabla')"
   ]
  },
  {
   "cell_type": "code",
   "execution_count": null,
   "metadata": {},
   "outputs": [],
   "source": [
    "def double(infile):\n",
    "    file = open(infile)\n",
    "    number = file.readline()\n",
    "    return number * 2 # this will print two times what is in the file\n",
    "    return int(number) * 2"
   ]
  },
  {
   "cell_type": "code",
   "execution_count": null,
   "metadata": {},
   "outputs": [],
   "source": [
    "double('my_amazing_file')"
   ]
  },
  {
   "cell_type": "markdown",
   "metadata": {},
   "source": [
    "## string formating"
   ]
  },
  {
   "cell_type": "markdown",
   "metadata": {},
   "source": [
    "* from Python 3 ?\n",
    "* in curly brackets you can save variables, function, expression..."
   ]
  },
  {
   "cell_type": "code",
   "execution_count": null,
   "metadata": {},
   "outputs": [],
   "source": [
    "name = 'David'\n",
    "age = 20+8\n",
    "\n",
    "# old format\n",
    "print('Hi, my name is %s and I am %s' % (name, age))\n",
    "\n",
    "# new format\n",
    "print('Hi, my name is {0} and I am {1}'.format(name, age))\n",
    "\n",
    "#super new format (from 3.6)\n",
    "print(f'Hi, my name is {name} and I am {age}')\n"
   ]
  },
  {
   "cell_type": "code",
   "execution_count": null,
   "metadata": {},
   "outputs": [],
   "source": [
    "# new format\n",
    "name = 'David'\n",
    "age = 20+8\n",
    "\n",
    "print('Hi, my name is {0} and I am {0}'.format(name, age))\n",
    "print('Hi, my name is {0} and I am {20+8}'.format(name, age))"
   ]
  },
  {
   "cell_type": "code",
   "execution_count": 1,
   "metadata": {},
   "outputs": [
    {
     "name": "stdout",
     "output_type": "stream",
     "text": [
      "Hi, my name is David and I am 28\n"
     ]
    }
   ],
   "source": [
    "# super new format\n",
    "\n",
    "print(f'Hi, my name is {\"Da\" + \"vid\"} and I am {20+8}')"
   ]
  }
 ],
 "metadata": {
  "kernelspec": {
   "display_name": "Python 3",
   "language": "python",
   "name": "python3"
  },
  "language_info": {
   "codemirror_mode": {
    "name": "ipython",
    "version": 3
   },
   "file_extension": ".py",
   "mimetype": "text/x-python",
   "name": "python",
   "nbconvert_exporter": "python",
   "pygments_lexer": "ipython3",
   "version": "3.7.3"
  }
 },
 "nbformat": 4,
 "nbformat_minor": 4
}
