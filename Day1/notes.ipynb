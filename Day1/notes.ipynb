{
 "cells": [
  {
   "cell_type": "markdown",
   "metadata": {},
   "source": [
    "# My notes"
   ]
  },
  {
   "cell_type": "markdown",
   "metadata": {},
   "source": [
    "2019-09-09 9:20\n",
    "\n",
    "Website:\n",
    "\n",
    "* http://ostrapy.pythonanywhere.com/\n",
    "\n",
    "Introduction\n",
    "* Python is 28 years old\n",
    "* machine learning - super easy to do with python\n",
    "* named after Monthy Python\n",
    "* perl and python are competing in science. Perl is very flexible \n",
    "\n",
    "Recommended books: \n",
    "\n",
    "* https://leanpub.com/python_101\n",
    "* https://leanpub.com/python201\n",
    "\n",
    "Jupyter notebooks\n",
    "\n",
    "* Markdown cheat sheet: http://nestacms.com/docs/creating-content/markdown-cheat-sheet\n",
    "    * b # adds\n",
    "    \n",
    "* Time to time is good to restart kernel. Kernel > restart kernel\n",
    "* JN are basically for data science\n",
    "\n",
    "Python basics\n",
    "\n",
    "* Python is very intuitive\n",
    "* Python is case sensitive\n",
    "* Many people still using Python 2 - but do not use it!\n",
    "    * 9/8 gives you inetger, not float (asi in python 3)\n",
    "    * you have to use 9/8.0 or 9/float(8)\n",
    "* which type is it just write\n",
    "    * type(x)\n",
    "* To see results from methods you need to print the variable eg. print(x) or just writing the variable down eg. x\n",
    "* Be lazy!! \n",
    "    * Use TAB\n",
    "* Good naming of variables is the most important thing in Python\n",
    "* Python is actually written in C and when run it compile itself\n",
    "    * these are the weired folders with .pyc or something other ending, these are binary files, which are faster\n",
    "\n",
    "\n",
    "You learn programming through Googling\n",
    "* will teach you how to ask questions\n",
    "* basically just copy the error message and google it\n",
    "* stackoverflow is great\n",
    "\n",
    "For Python\n",
    "* PyCharm - too heavy for beginners\n",
    "\n",
    "### Basic data types\n",
    "* integers\n",
    "* float numbers\n",
    "* strings\n",
    "* lists\n",
    "* tuples ('immutable list')\n",
    "* set (unordered)\n",
    "* dictionary (ordered from 3.6)\n",
    "\n",
    "### Best practices\n",
    "* functins - lowercase\n",
    "* classes - capital\n",
    "\n",
    "### Sublimetext - https://www.sublimetext.com/\n",
    "* costs 60 dollars, or every ten times you open file it bothers you with buying it\n",
    "* moving with Ctrl and arrows to select words\n",
    "* sublimetext\n",
    "* Ctrl+d\n",
    "* Ctrl Shift P - P stands for command Pallete # search window for the commands \n",
    "* Sublime text works also in \n",
    "    * Jupyter notebooks - under Edit > Sublime Text\n",
    "    * Atom\n",
    "    * R studio\n",
    "    * SublimeREPL\n",
    "\n",
    "### Where to learn more about python\n",
    "* Kaggle - mostly for machine learning, when you solve the problem as the best one\n",
    "* Rosalind \n",
    "\n",
    "\n"
   ]
  },
  {
   "cell_type": "markdown",
   "metadata": {},
   "source": [
    "About the speed\n",
    "* how to make it faster... \n",
    "* profiling - way how to check the speed of my program"
   ]
  },
  {
   "cell_type": "markdown",
   "metadata": {},
   "source": [
    "\n"
   ]
  },
  {
   "cell_type": "markdown",
   "metadata": {},
   "source": [
    "## Principle of mutability\n",
    "\n",
    "a) mutable - changing id after something was changed or added to the object\n",
    "\n",
    "b) inmutable - not changing id after something was changed or added to the object\n",
    "\n",
    "* lists\n",
    "* strings - \n",
    "* dictionaries are mutable\n",
    "* tupple - inmutable list, you can not change it\n",
    "* sets -\n",
    "\n",
    "Functions\n",
    "* in functions you can define default variable using def dont_know(number=10)\n",
    "* don't use dictionaries as default variables, because dictionaries are mutable\n",
    "\n",
    "Checking id of an object\n",
    "* id()"
   ]
  },
  {
   "cell_type": "markdown",
   "metadata": {},
   "source": [
    "#### Dictionaries"
   ]
  },
  {
   "cell_type": "code",
   "execution_count": null,
   "metadata": {},
   "outputs": [],
   "source": [
    "def dont_know(number, result = []):\n",
    "    result.append(number)\n",
    "    return result"
   ]
  },
  {
   "cell_type": "code",
   "execution_count": null,
   "metadata": {},
   "outputs": [],
   "source": [
    "for number in [1,2,3,4,5]:\n",
    "    print(dont_know(number))"
   ]
  },
  {
   "cell_type": "markdown",
   "metadata": {},
   "source": [
    "#### Sets"
   ]
  },
  {
   "cell_type": "code",
   "execution_count": null,
   "metadata": {},
   "outputs": [],
   "source": [
    "my_set = {1,1,1,1,1,2,2,1,1,1}\n",
    "len(my_set)"
   ]
  },
  {
   "cell_type": "code",
   "execution_count": null,
   "metadata": {},
   "outputs": [],
   "source": [
    "for i in [1,2,3,4,5]:\n",
    "    if i in my_set:\n",
    "        print(i)"
   ]
  },
  {
   "cell_type": "code",
   "execution_count": null,
   "metadata": {},
   "outputs": [],
   "source": [
    "id(dont_know)"
   ]
  },
  {
   "cell_type": "markdown",
   "metadata": {},
   "source": [
    "## Revision"
   ]
  },
  {
   "cell_type": "markdown",
   "metadata": {},
   "source": [
    "Functions\n",
    "* functions can be nested BUT! Don\n",
    "* funcitons are first class objects....\n",
    "* you can store functions in variables also"
   ]
  },
  {
   "cell_type": "code",
   "execution_count": null,
   "metadata": {},
   "outputs": [],
   "source": [
    "if 5 < 2:\n",
    "    print('blabla')\n",
    "elif 5 > 2: # we can have endless elif statements\n",
    "    print('I am elif!')\n",
    "else: # executed just if the condition is not true, we can have just one else statement in our function\n",
    "    print('I am else!') "
   ]
  },
  {
   "cell_type": "code",
   "execution_count": null,
   "metadata": {},
   "outputs": [],
   "source": [
    "def dont_know():\n",
    "    pass"
   ]
  },
  {
   "cell_type": "code",
   "execution_count": null,
   "metadata": {},
   "outputs": [],
   "source": [
    "def i_know():\n",
    "    print('everything')\n",
    "\n",
    "i_know()"
   ]
  },
  {
   "cell_type": "code",
   "execution_count": null,
   "metadata": {},
   "outputs": [],
   "source": [
    "def double(text):\n",
    "    return text * 2\n",
    "\n",
    "double('bla')"
   ]
  },
  {
   "cell_type": "code",
   "execution_count": null,
   "metadata": {},
   "outputs": [],
   "source": [
    "double(i_know())"
   ]
  },
  {
   "cell_type": "markdown",
   "metadata": {},
   "source": [
    "Recursive functions\n",
    "* one of basic concept in programming\n",
    "* function which call itself\n",
    "* there has to be a way out... \n",
    "* eg. going up and up through taxonomic tree and until it finds something it is calling itself again and again - every time going one level up"
   ]
  },
  {
   "cell_type": "markdown",
   "metadata": {},
   "source": [
    "## Objects"
   ]
  },
  {
   "cell_type": "markdown",
   "metadata": {},
   "source": [
    "* everything in Python is object\n",
    "* object has\n",
    "    * data\n",
    "        * header...\n",
    "    * methods\n",
    "    * functions"
   ]
  },
  {
   "cell_type": "code",
   "execution_count": 1,
   "metadata": {},
   "outputs": [
    {
     "data": {
      "text/plain": [
       "1"
      ]
     },
     "execution_count": 1,
     "metadata": {},
     "output_type": "execute_result"
    }
   ],
   "source": [
    "'Python'.count('o')"
   ]
  },
  {
   "cell_type": "markdown",
   "metadata": {},
   "source": [
    "## Hacking\n",
    "\n",
    "* it is not necesarrily improtant to know a lot for hacking...\n",
    "    * eg. steal money by sending someone a negative nuber of money\n",
    "    * send an email from someone else account"
   ]
  },
  {
   "cell_type": "markdown",
   "metadata": {},
   "source": [
    "## Modules\n",
    "\n",
    "* import them just at the beginning of the file\n",
    "* good practices is to import first everything from standard libraries and than the rest ? What is actually the rest?"
   ]
  },
  {
   "cell_type": "markdown",
   "metadata": {},
   "source": [
    "## Working with scripts and files\n",
    "\n",
    "* how to create a script \n",
    "* run it from console using python script.py\n",
    "* no need to put there any koncovku if you run it using python script\n",
    "* better is to use shaebang line (as a first line) which is specifying which program should execute this file\n",
    "    * shaebang line: #!/user/bin/env python\n",
    "        * there are more \n"
   ]
  },
  {
   "cell_type": "markdown",
   "metadata": {},
   "source": [
    "## How to run pipelines\n",
    "* Snakemake - pipeline creator \n",
    "* from within python script using subprocess"
   ]
  },
  {
   "cell_type": "markdown",
   "metadata": {},
   "source": [
    "## Git\n",
    "* dont confuse it with github\n",
    "* commands\n",
    "    * git init\n",
    "    * git status\n",
    "    * git add -m \"descriptive message\" file\n",
    "    * git commit -m \"I don't know\"\n",
    "    * git log\n",
    "* github and other repositories to put it online\n",
    "    * git push # push your code online"
   ]
  },
  {
   "cell_type": "markdown",
   "metadata": {},
   "source": [
    "### Plotting\n",
    "* bokeh - Bokeh is an interactive visualization library that targets modern web browsers for presentation. \n",
    "* plotly - an interactive plots\n",
    "* matplotlib\n",
    "* seaborn - statistical data visualization\n",
    "* dash - Dash is a Python framework for building analytical web apps in Python."
   ]
  },
  {
   "cell_type": "markdown",
   "metadata": {},
   "source": [
    "# Machine learning\n",
    "* very popular\n",
    "* with python it is extremely easy, the hardes part is to prepare the data\n",
    "* book: Deep Learning with Python, Book by Francois Chollet\n",
    "* packages: Keras\n",
    "* very easy\n",
    "* DeepDream - weired pictures.... https://en.wikipedia.org/wiki/DeepDream\n"
   ]
  }
 ],
 "metadata": {
  "kernelspec": {
   "display_name": "Python 3",
   "language": "python",
   "name": "python3"
  },
  "language_info": {
   "codemirror_mode": {
    "name": "ipython",
    "version": 3
   },
   "file_extension": ".py",
   "mimetype": "text/x-python",
   "name": "python",
   "nbconvert_exporter": "python",
   "pygments_lexer": "ipython3",
   "version": "3.7.3"
  }
 },
 "nbformat": 4,
 "nbformat_minor": 2
}
