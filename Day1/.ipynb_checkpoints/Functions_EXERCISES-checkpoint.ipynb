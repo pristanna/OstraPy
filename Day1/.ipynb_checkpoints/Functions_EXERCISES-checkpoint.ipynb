{
 "cells": [
  {
   "cell_type": "markdown",
   "metadata": {},
   "source": [
    "**1: Prepare basic function for multiplying input by 5**"
   ]
  },
  {
   "cell_type": "code",
   "execution_count": null,
   "metadata": {},
   "outputs": [],
   "source": [
    "def multiply(number):\n",
    "    print(number * 5)\n",
    "\n",
    "multiply(5)"
   ]
  },
  {
   "cell_type": "markdown",
   "metadata": {},
   "source": [
    "**2: Prepare function for GC content and test it.**"
   ]
  },
  {
   "cell_type": "code",
   "execution_count": null,
   "metadata": {},
   "outputs": [],
   "source": [
    "def gc(seq):\n",
    "    seq = seq.lower()\n",
    "    g = seq.count('g')\n",
    "    c = seq.count('c')\n",
    "    return (g + c) / len(seq)\n",
    "\n",
    "gc('GGGCCGCATAAC')"
   ]
  },
  {
   "cell_type": "markdown",
   "metadata": {},
   "source": [
    "**3. Make function which gives you opposite strand of a given sequence (reverse complement).**"
   ]
  },
  {
   "cell_type": "code",
   "execution_count": null,
   "metadata": {},
   "outputs": [],
   "source": [
    "# this solution is using concatenating the strings... \n",
    "\n",
    "def revcom1(seq):\n",
    "\n",
    "    rev_com = '' # here we are defining a variable with data type string\n",
    "    for base in seq:\n",
    "        if base == 'A':\n",
    "            rev_com += 'T'\n",
    "        elif base == 'T':\n",
    "            rev_com += 'A'\n",
    "        elif base == 'C':\n",
    "            rev_com += 'G'\n",
    "        elif base == 'G':\n",
    "            rev_com += 'C'\n",
    "        print(rev_com)\n",
    "    return(rev_com[::-1])    # this is reverting the string\n",
    "\n",
    "revcom1('ACTG')"
   ]
  },
  {
   "cell_type": "code",
   "execution_count": null,
   "metadata": {},
   "outputs": [],
   "source": [
    "def revcom2(seq):\n",
    "    seq = seq.replace('A', 't') # here we are translating from upper to lower in order not to translate what was already translated\n",
    "    seq = seq.replace('T', 'a')\n",
    "    seq = seq.replace('C', 'g')\n",
    "    seq = seq.replace('G', 'c')\n",
    "    seq = seq.upper()\n",
    "    return seq[::-1]"
   ]
  },
  {
   "cell_type": "code",
   "execution_count": null,
   "metadata": {},
   "outputs": [],
   "source": [
    "revcom2('ACTG')"
   ]
  },
  {
   "cell_type": "code",
   "execution_count": null,
   "metadata": {},
   "outputs": [],
   "source": [
    "import string\n",
    "def revcom3(seq):\n",
    "    rev=(seq[::-1])\n",
    "    return (rev.translate(str.maketrans(\"ACTG\", \"TGAC\")))\n",
    "\n",
    "revcom3('ACTG')"
   ]
  },
  {
   "cell_type": "markdown",
   "metadata": {},
   "source": [
    "**4: Prepare function which reads fasta_file as input and return list of NCBI_numbers. Use rab20.fasta file to try it**"
   ]
  },
  {
   "cell_type": "code",
   "execution_count": null,
   "metadata": {},
   "outputs": [],
   "source": []
  },
  {
   "cell_type": "markdown",
   "metadata": {},
   "source": [
    "**5: Prepare simple function for cutting DNA sequence into codons. Return list of them.**"
   ]
  },
  {
   "cell_type": "code",
   "execution_count": 9,
   "metadata": {},
   "outputs": [
    {
     "data": {
      "text/plain": [
       "['TAG', 'TAG', 'GGC', 'CGT', 'GAA', 'GCT', 'ACC', 'TGA', 'TGA']"
      ]
     },
     "execution_count": 9,
     "metadata": {},
     "output_type": "execute_result"
    }
   ],
   "source": [
    "# my solution\n",
    "\n",
    "def dna_codons(seq):\n",
    "    codons = []\n",
    "    i = 0\n",
    "    rounds = int(len(seq)/3)\n",
    "    s = 0\n",
    "    e = 3\n",
    "    for i in range(i,rounds):\n",
    "        if i < rounds:\n",
    "            codons.append(seq[s:e])\n",
    "            i = i + 1\n",
    "            s = s + 3\n",
    "            e = s + 3\n",
    "    return(codons)\n",
    "\n",
    "dna_codons('TAGTAGGGCCGTGAAGCTACCTGATGAG')"
   ]
  },
  {
   "cell_type": "code",
   "execution_count": 39,
   "metadata": {},
   "outputs": [
    {
     "data": {
      "text/plain": [
       "['TAG', 'TAG', 'GGC', 'CGT', 'GAA', 'GCT', 'ACC', 'TGA', 'TGA']"
      ]
     },
     "execution_count": 39,
     "metadata": {},
     "output_type": "execute_result"
    }
   ],
   "source": [
    "# first official solution\n",
    "\n",
    "def codons(seq):\n",
    "    result=[]\n",
    "    for i in range(0, len(seq)-2,3): # the -2 is there, because otherwise it will print also indivdual bases, eventhou these are not codons\n",
    "        result.append(seq[i:i+3])\n",
    "    return result\n",
    "\n",
    "codons('TAGTAGGGCCGTGAAGCTACCTGATGAG')"
   ]
  },
  {
   "cell_type": "code",
   "execution_count": 21,
   "metadata": {},
   "outputs": [
    {
     "data": {
      "text/plain": [
       "['TAG', 'TAG', 'GGC', 'CGT', 'GAA', 'GCT', 'ACC', 'TGA', 'TGA']"
      ]
     },
     "execution_count": 21,
     "metadata": {},
     "output_type": "execute_result"
    }
   ],
   "source": []
  },
  {
   "cell_type": "markdown",
   "metadata": {},
   "source": [
    "When working with k-mers you always need to put -1 there, otherwise it will produce incomplete results"
   ]
  },
  {
   "cell_type": "code",
   "execution_count": 51,
   "metadata": {},
   "outputs": [
    {
     "data": {
      "text/plain": [
       "['TAG', 'TAG', 'GGC', 'CGT', 'GAA', 'GCT', 'ACC', 'TGA', 'TGA']"
      ]
     },
     "execution_count": 51,
     "metadata": {},
     "output_type": "execute_result"
    }
   ],
   "source": [
    "# first official solution\n",
    "# with -2\n",
    "def codons(seq):\n",
    "    result=[]\n",
    "    for i in range(0, len(seq)-2,3):\n",
    "        result.append(seq[i:i+3])\n",
    "    return result\n",
    "\n",
    "codons('TAGTAGGGCCGTGAAGCTACCTGATGAG')"
   ]
  },
  {
   "cell_type": "code",
   "execution_count": 50,
   "metadata": {},
   "outputs": [
    {
     "data": {
      "text/plain": [
       "['TAG', 'T']"
      ]
     },
     "execution_count": 50,
     "metadata": {},
     "output_type": "execute_result"
    }
   ],
   "source": [
    "# first official solution\n",
    "# without -2\n",
    "def codons(seq):\n",
    "    result=[]\n",
    "    for i in range(0, len(seq),3):\n",
    "        result.append(seq[i:i+3])\n",
    "    return result\n",
    "\n",
    "codons('TAGT')"
   ]
  },
  {
   "cell_type": "code",
   "execution_count": 40,
   "metadata": {},
   "outputs": [
    {
     "name": "stdout",
     "output_type": "stream",
     "text": [
      "range(0, 2, 3)\n",
      "4\n"
     ]
    }
   ],
   "source": [
    "seq = 'TAGT'\n",
    "print(range(0, len(seq)-2,3))\n",
    "print(len(seq))\n"
   ]
  },
  {
   "cell_type": "markdown",
   "metadata": {},
   "source": [
    "First official solution including frame"
   ]
  },
  {
   "cell_type": "code",
   "execution_count": 47,
   "metadata": {},
   "outputs": [
    {
     "data": {
      "text/plain": [
       "['AGT', 'AGG', 'GCC', 'GTG', 'AAG', 'CTA', 'CCT', 'GAT', 'GAG']"
      ]
     },
     "execution_count": 47,
     "metadata": {},
     "output_type": "execute_result"
    }
   ],
   "source": [
    "def codons(seq, frame):\n",
    "    result=[]\n",
    "    if frame < 0:\n",
    "        seq = seq[::-1]\n",
    "        frame = frame -1\n",
    "    for i in range(frame, len(seq)-2,3): \n",
    "        result.append(seq[i:i+3])\n",
    "    return result\n",
    "\n",
    "codons('TAGTAGGGCCGTGAAGCTACCTGATGAG', 1)"
   ]
  },
  {
   "cell_type": "markdown",
   "metadata": {},
   "source": [
    "**6: Prepare simple function for DNA translation. You can use partial code below. Test your code on this sequence 'TAGTAGGGCCGTGAAGCTACCTGATGA'**"
   ]
  },
  {
   "cell_type": "code",
   "execution_count": 61,
   "metadata": {
    "scrolled": true
   },
   "outputs": [],
   "source": [
    "translation_table = {\"TTT\": \"F\", \"TTC\": \"F\", \"TTA\": \"L\" , \"TTG\": \"L\",\n",
    "                \"TCT\": \"S\", \"TCC\": \"S\" , \"TCA\": \"S\" , \"TCG\": \"S\",\n",
    "                \"TAT\": \"Y\" , \"TAC\": \"Y\" , \"TAA\": \"*\" , \"TAG\": \"*\",\n",
    "                \"TGT\": \"C\" , \"TGC\": \"C\" , \"TGA\": \"*\" , \"TGG\": \"W\", \n",
    "                \"CTT\": \"L\" , \"CTC\": \"L\" , \"CTA\": \"L\" , \"CTG\": \"L\",\n",
    "                \"CCT\": \"P\" , \"CCC\": \"P\" , \"CCA\": \"P\" , \"CCG\": \"P\",\n",
    "                \"CAT\": \"H\" , \"CAC\": \"H\" , \"CAA\": \"Q\" , \"CAG\": \"Q\",\n",
    "                \"CGT\": \"R\" , \"CGC\": \"R\" , \"CGA\": \"R\" , \"CGG\": \"R\",\n",
    "                \"ATT\": \"I\" , \"ATC\": \"I\" , \"ATA\": \"I\" , \"ATG\": \"M\",\n",
    "                \"ACT\": \"T\" , \"ACC\": \"T\" , \"ACA\": \"T\" , \"ACG\": \"T\",\n",
    "                \"AAT\": \"N\" , \"AAC\": \"N\" , \"AAA\": \"K\" , \"AAG\": \"K\",\n",
    "                \"AGT\": \"S\" , \"AGC\": \"S\" , \"AGA\": \"R\" , \"AGG\": \"R\",\n",
    "                \"GTT\": \"V\" , \"GTC\": \"V\" , \"GTA\": \"V\" , \"GTG\": \"V\",\n",
    "                \"GCT\": \"A\" , \"GCC\": \"A\" , \"GCA\": \"A\" , \"GCG\": \"A\",\n",
    "                \"GAT\": \"D\" , \"GAC\": \"D\" , \"GAA\": \"E\" , \"GAG\": \"E\",\n",
    "                \"GGT\": \"G\" , \"GGC\": \"G\" , \"GGA\": \"G\" , \"GGG\": \"G\"}\n",
    "\n"
   ]
  },
  {
   "cell_type": "code",
   "execution_count": 66,
   "metadata": {},
   "outputs": [
    {
     "name": "stdout",
     "output_type": "stream",
     "text": [
      "*\n",
      "*\n",
      "G\n",
      "R\n",
      "E\n",
      "A\n",
      "T\n",
      "*\n",
      "*\n"
     ]
    }
   ],
   "source": [
    "# my solution\n",
    "\n",
    "def translate(seq):\n",
    "    separated = codons(seq)\n",
    "    for codon in separated:\n",
    "        print(translation_table[codon])\n",
    "\n",
    "translate('TAGTAGGGCCGTGAAGCTACCTGATGA')\n"
   ]
  },
  {
   "cell_type": "code",
   "execution_count": 72,
   "metadata": {},
   "outputs": [
    {
     "data": {
      "text/plain": [
       "'**GREAT**'"
      ]
     },
     "execution_count": 72,
     "metadata": {},
     "output_type": "execute_result"
    }
   ],
   "source": [
    "# official solution using strings\n",
    "\n",
    "def translate(seq):\n",
    "    res = ''\n",
    "    my_codons = codons(seq)\n",
    "    for codon in my_codons:\n",
    "        res += translation_table[codon]\n",
    "    return res\n",
    "\n",
    "translate('TAGTAGGGCCGTGAAGCTACCTGATGA')"
   ]
  },
  {
   "cell_type": "code",
   "execution_count": 73,
   "metadata": {},
   "outputs": [
    {
     "data": {
      "text/plain": [
       "'**GREAT**'"
      ]
     },
     "execution_count": 73,
     "metadata": {},
     "output_type": "execute_result"
    }
   ],
   "source": [
    "# official solution 2 - using list and join method\n",
    "\n",
    "def translate(seq):\n",
    "    res = []\n",
    "    my_codons = codons(seq)\n",
    "    for codon in my_codons:\n",
    "        res.append(translation_table[codon])\n",
    "    return ''.join(res)\n",
    "\n",
    "translate('TAGTAGGGCCGTGAAGCTACCTGATGA')"
   ]
  }
 ],
 "metadata": {
  "kernelspec": {
   "display_name": "Python 3",
   "language": "python",
   "name": "python3"
  },
  "language_info": {
   "codemirror_mode": {
    "name": "ipython",
    "version": 3
   },
   "file_extension": ".py",
   "mimetype": "text/x-python",
   "name": "python",
   "nbconvert_exporter": "python",
   "pygments_lexer": "ipython3",
   "version": "3.7.3"
  }
 },
 "nbformat": 4,
 "nbformat_minor": 4
}
