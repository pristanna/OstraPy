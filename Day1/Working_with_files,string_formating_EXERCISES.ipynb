{
 "cells": [
  {
   "cell_type": "markdown",
   "metadata": {},
   "source": [
    "**1. Make(write) a file with 1 line of some random text.** "
   ]
  },
  {
   "cell_type": "code",
   "execution_count": 1,
   "metadata": {},
   "outputs": [],
   "source": [
    "with open(\"file1.txt\", 'w') as test_out:\n",
    "    test_out.write('This is some random text')"
   ]
  },
  {
   "cell_type": "markdown",
   "metadata": {},
   "source": [
    "**3. Make(write) a file with 5 lines of some random text.**"
   ]
  },
  {
   "cell_type": "code",
   "execution_count": 2,
   "metadata": {},
   "outputs": [],
   "source": [
    "with open(\"file2.txt\", 'w') as test_out:\n",
    "    test_out.write('This is some random text\\n' * 5)"
   ]
  },
  {
   "cell_type": "markdown",
   "metadata": {},
   "source": [
    "**4. Open file from exercise 3 and for every line, print 'My line:' and line itself.**"
   ]
  },
  {
   "cell_type": "code",
   "execution_count": 2,
   "metadata": {},
   "outputs": [],
   "source": [
    "with open(\"file3.txt\", 'w') as test_out:\n",
    "    for line in open(\"file2.txt\", \"r\"):\n",
    "        test_out.write('My line:' + line)"
   ]
  },
  {
   "cell_type": "markdown",
   "metadata": {},
   "source": [
    "This is giving weired results... there is semething wrong probably because before I opened rab20.fasta Is there somewhere missing some variable... \n",
    "\n",
    "My line:NLAQSKPEKSKNRCC\n",
    "    \n",
    "My line:This is some random text\n",
    "    \n",
    "My line:This is some random text\n",
    "    \n",
    "My line:This is some random text\n",
    "    \n",
    "My line:This is some random text\n",
    "    \n",
    "My line:This is some random text\n"
   ]
  },
  {
   "cell_type": "markdown",
   "metadata": {},
   "source": [
    "**5. Make variable 'my_name' and assign your name to it. Make variable 'favorite_sport' and assign you favorite team name to it. Write 'My name is my_name and my favorite team is favorite_sport.' to some new file.**"
   ]
  },
  {
   "cell_type": "code",
   "execution_count": null,
   "metadata": {},
   "outputs": [],
   "source": [
    "my_name = 'Anna'\n",
    "favorite_sport = 'wing tsun'\n",
    "\n",
    "# old format\n",
    "print('My name is %s and my favorite team is %s' % (my_name, favorite_sport))\n",
    "\n",
    "# new format\n",
    "print('My name is {0} and my favorite team is {1}.'.format(my_name, favorite_sport))\n",
    "\n",
    "#super new format (from 3.6)\n",
    "\n",
    "print(f'My name is {my_name} and my favorite team is {favorite_sport}')\n"
   ]
  },
  {
   "cell_type": "markdown",
   "metadata": {},
   "source": [
    "**6. Append some text to the end of the file from exercise number 5.** "
   ]
  },
  {
   "cell_type": "code",
   "execution_count": null,
   "metadata": {},
   "outputs": [],
   "source": [
    "my_name = 'Anna'\n",
    "favorite_sport = 'wing tsun'\n",
    "\n",
    "# old format\n",
    "print('My name is %s and my favorite team is %s.' % (my_name, favorite_sport) + 'some text')\n",
    "\n",
    "# new format\n",
    "print('My name is {0} and my favorite team is {1}.'.format(my_name, favorite_sport) + 'some text')\n",
    "\n",
    "#super new format (from 3.6)\n",
    "\n",
    "print(f'My name is {my_name} and my favorite team is {favorite_sport}.' + 'some text')"
   ]
  }
 ],
 "metadata": {
  "kernelspec": {
   "display_name": "Python 3",
   "language": "python",
   "name": "python3"
  },
  "language_info": {
   "codemirror_mode": {
    "name": "ipython",
    "version": 3
   },
   "file_extension": ".py",
   "mimetype": "text/x-python",
   "name": "python",
   "nbconvert_exporter": "python",
   "pygments_lexer": "ipython3",
   "version": "3.7.3"
  }
 },
 "nbformat": 4,
 "nbformat_minor": 4
}
